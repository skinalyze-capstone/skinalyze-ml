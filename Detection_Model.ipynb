{
  "cells": [
    {
      "cell_type": "markdown",
      "metadata": {
        "id": "Bea2I0iCmvPg"
      },
      "source": [
        "# Import Library"
      ]
    },
    {
      "cell_type": "code",
      "execution_count": null,
      "metadata": {
        "colab": {
          "base_uri": "https://localhost:8080/"
        },
        "collapsed": true,
        "id": "RfSeHpfwpwp4",
        "outputId": "adddc79c-03f9-4d56-b9c0-cce8de2d01d3"
      },
      "outputs": [
        {
          "name": "stdout",
          "output_type": "stream",
          "text": [
            "Collecting tensorflowjs\n",
            "  Downloading tensorflowjs-4.22.0-py3-none-any.whl.metadata (3.2 kB)\n",
            "Requirement already satisfied: flax>=0.7.2 in /usr/local/lib/python3.10/dist-packages (from tensorflowjs) (0.8.5)\n",
            "Requirement already satisfied: importlib_resources>=5.9.0 in /usr/local/lib/python3.10/dist-packages (from tensorflowjs) (6.4.5)\n",
            "Requirement already satisfied: jax>=0.4.13 in /usr/local/lib/python3.10/dist-packages (from tensorflowjs) (0.4.33)\n",
            "Requirement already satisfied: jaxlib>=0.4.13 in /usr/local/lib/python3.10/dist-packages (from tensorflowjs) (0.4.33)\n",
            "Requirement already satisfied: tensorflow<3,>=2.13.0 in /usr/local/lib/python3.10/dist-packages (from tensorflowjs) (2.17.1)\n",
            "Requirement already satisfied: tf-keras>=2.13.0 in /usr/local/lib/python3.10/dist-packages (from tensorflowjs) (2.17.0)\n",
            "Collecting tensorflow-decision-forests>=1.5.0 (from tensorflowjs)\n",
            "  Downloading tensorflow_decision_forests-1.11.0-cp310-cp310-manylinux_2_17_x86_64.manylinux2014_x86_64.whl.metadata (6.0 kB)\n",
            "Requirement already satisfied: six<2,>=1.16.0 in /usr/local/lib/python3.10/dist-packages (from tensorflowjs) (1.16.0)\n",
            "Requirement already satisfied: tensorflow-hub>=0.16.1 in /usr/local/lib/python3.10/dist-packages (from tensorflowjs) (0.16.1)\n",
            "Collecting packaging~=23.1 (from tensorflowjs)\n",
            "  Downloading packaging-23.2-py3-none-any.whl.metadata (3.2 kB)\n",
            "Requirement already satisfied: numpy>=1.22 in /usr/local/lib/python3.10/dist-packages (from flax>=0.7.2->tensorflowjs) (1.26.4)\n",
            "Requirement already satisfied: msgpack in /usr/local/lib/python3.10/dist-packages (from flax>=0.7.2->tensorflowjs) (1.1.0)\n",
            "Requirement already satisfied: optax in /usr/local/lib/python3.10/dist-packages (from flax>=0.7.2->tensorflowjs) (0.2.4)\n",
            "Requirement already satisfied: orbax-checkpoint in /usr/local/lib/python3.10/dist-packages (from flax>=0.7.2->tensorflowjs) (0.6.4)\n",
            "Requirement already satisfied: tensorstore in /usr/local/lib/python3.10/dist-packages (from flax>=0.7.2->tensorflowjs) (0.1.69)\n",
            "Requirement already satisfied: rich>=11.1 in /usr/local/lib/python3.10/dist-packages (from flax>=0.7.2->tensorflowjs) (13.9.4)\n",
            "Requirement already satisfied: typing-extensions>=4.2 in /usr/local/lib/python3.10/dist-packages (from flax>=0.7.2->tensorflowjs) (4.12.2)\n",
            "Requirement already satisfied: PyYAML>=5.4.1 in /usr/local/lib/python3.10/dist-packages (from flax>=0.7.2->tensorflowjs) (6.0.2)\n",
            "Requirement already satisfied: ml-dtypes>=0.2.0 in /usr/local/lib/python3.10/dist-packages (from jax>=0.4.13->tensorflowjs) (0.4.1)\n",
            "Requirement already satisfied: opt-einsum in /usr/local/lib/python3.10/dist-packages (from jax>=0.4.13->tensorflowjs) (3.4.0)\n",
            "Requirement already satisfied: scipy>=1.10 in /usr/local/lib/python3.10/dist-packages (from jax>=0.4.13->tensorflowjs) (1.13.1)\n",
            "Requirement already satisfied: absl-py>=1.0.0 in /usr/local/lib/python3.10/dist-packages (from tensorflow<3,>=2.13.0->tensorflowjs) (1.4.0)\n",
            "Requirement already satisfied: astunparse>=1.6.0 in /usr/local/lib/python3.10/dist-packages (from tensorflow<3,>=2.13.0->tensorflowjs) (1.6.3)\n",
            "Requirement already satisfied: flatbuffers>=24.3.25 in /usr/local/lib/python3.10/dist-packages (from tensorflow<3,>=2.13.0->tensorflowjs) (24.3.25)\n",
            "Requirement already satisfied: gast!=0.5.0,!=0.5.1,!=0.5.2,>=0.2.1 in /usr/local/lib/python3.10/dist-packages (from tensorflow<3,>=2.13.0->tensorflowjs) (0.6.0)\n",
            "Requirement already satisfied: google-pasta>=0.1.1 in /usr/local/lib/python3.10/dist-packages (from tensorflow<3,>=2.13.0->tensorflowjs) (0.2.0)\n",
            "Requirement already satisfied: h5py>=3.10.0 in /usr/local/lib/python3.10/dist-packages (from tensorflow<3,>=2.13.0->tensorflowjs) (3.12.1)\n",
            "Requirement already satisfied: libclang>=13.0.0 in /usr/local/lib/python3.10/dist-packages (from tensorflow<3,>=2.13.0->tensorflowjs) (18.1.1)\n",
            "Requirement already satisfied: protobuf!=4.21.0,!=4.21.1,!=4.21.2,!=4.21.3,!=4.21.4,!=4.21.5,<5.0.0dev,>=3.20.3 in /usr/local/lib/python3.10/dist-packages (from tensorflow<3,>=2.13.0->tensorflowjs) (4.25.5)\n",
            "Requirement already satisfied: requests<3,>=2.21.0 in /usr/local/lib/python3.10/dist-packages (from tensorflow<3,>=2.13.0->tensorflowjs) (2.32.3)\n",
            "Requirement already satisfied: setuptools in /usr/local/lib/python3.10/dist-packages (from tensorflow<3,>=2.13.0->tensorflowjs) (75.1.0)\n",
            "Requirement already satisfied: termcolor>=1.1.0 in /usr/local/lib/python3.10/dist-packages (from tensorflow<3,>=2.13.0->tensorflowjs) (2.5.0)\n",
            "Requirement already satisfied: wrapt>=1.11.0 in /usr/local/lib/python3.10/dist-packages (from tensorflow<3,>=2.13.0->tensorflowjs) (1.17.0)\n",
            "Requirement already satisfied: grpcio<2.0,>=1.24.3 in /usr/local/lib/python3.10/dist-packages (from tensorflow<3,>=2.13.0->tensorflowjs) (1.68.1)\n",
            "Requirement already satisfied: tensorboard<2.18,>=2.17 in /usr/local/lib/python3.10/dist-packages (from tensorflow<3,>=2.13.0->tensorflowjs) (2.17.1)\n",
            "Requirement already satisfied: keras>=3.2.0 in /usr/local/lib/python3.10/dist-packages (from tensorflow<3,>=2.13.0->tensorflowjs) (3.5.0)\n",
            "Requirement already satisfied: tensorflow-io-gcs-filesystem>=0.23.1 in /usr/local/lib/python3.10/dist-packages (from tensorflow<3,>=2.13.0->tensorflowjs) (0.37.1)\n",
            "Requirement already satisfied: pandas in /usr/local/lib/python3.10/dist-packages (from tensorflow-decision-forests>=1.5.0->tensorflowjs) (2.2.2)\n",
            "Collecting tensorflow<3,>=2.13.0 (from tensorflowjs)\n",
            "  Downloading tensorflow-2.18.0-cp310-cp310-manylinux_2_17_x86_64.manylinux2014_x86_64.whl.metadata (4.1 kB)\n",
            "Requirement already satisfied: wheel in /usr/local/lib/python3.10/dist-packages (from tensorflow-decision-forests>=1.5.0->tensorflowjs) (0.45.1)\n",
            "Collecting wurlitzer (from tensorflow-decision-forests>=1.5.0->tensorflowjs)\n",
            "  Downloading wurlitzer-3.1.1-py3-none-any.whl.metadata (2.5 kB)\n",
            "Collecting ydf (from tensorflow-decision-forests>=1.5.0->tensorflowjs)\n",
            "  Downloading ydf-0.9.0-cp310-cp310-manylinux_2_17_x86_64.manylinux2014_x86_64.whl.metadata (3.2 kB)\n",
            "Collecting tensorboard<2.19,>=2.18 (from tensorflow<3,>=2.13.0->tensorflowjs)\n",
            "  Downloading tensorboard-2.18.0-py3-none-any.whl.metadata (1.6 kB)\n",
            "INFO: pip is looking at multiple versions of tf-keras to determine which version is compatible with other requirements. This could take a while.\n",
            "Collecting tf-keras>=2.13.0 (from tensorflowjs)\n",
            "  Downloading tf_keras-2.18.0-py3-none-any.whl.metadata (1.6 kB)\n",
            "Requirement already satisfied: namex in /usr/local/lib/python3.10/dist-packages (from keras>=3.2.0->tensorflow<3,>=2.13.0->tensorflowjs) (0.0.8)\n",
            "Requirement already satisfied: optree in /usr/local/lib/python3.10/dist-packages (from keras>=3.2.0->tensorflow<3,>=2.13.0->tensorflowjs) (0.13.1)\n",
            "Requirement already satisfied: charset-normalizer<4,>=2 in /usr/local/lib/python3.10/dist-packages (from requests<3,>=2.21.0->tensorflow<3,>=2.13.0->tensorflowjs) (3.4.0)\n",
            "Requirement already satisfied: idna<4,>=2.5 in /usr/local/lib/python3.10/dist-packages (from requests<3,>=2.21.0->tensorflow<3,>=2.13.0->tensorflowjs) (3.10)\n",
            "Requirement already satisfied: urllib3<3,>=1.21.1 in /usr/local/lib/python3.10/dist-packages (from requests<3,>=2.21.0->tensorflow<3,>=2.13.0->tensorflowjs) (2.2.3)\n",
            "Requirement already satisfied: certifi>=2017.4.17 in /usr/local/lib/python3.10/dist-packages (from requests<3,>=2.21.0->tensorflow<3,>=2.13.0->tensorflowjs) (2024.8.30)\n",
            "Requirement already satisfied: markdown-it-py>=2.2.0 in /usr/local/lib/python3.10/dist-packages (from rich>=11.1->flax>=0.7.2->tensorflowjs) (3.0.0)\n",
            "Requirement already satisfied: pygments<3.0.0,>=2.13.0 in /usr/local/lib/python3.10/dist-packages (from rich>=11.1->flax>=0.7.2->tensorflowjs) (2.18.0)\n",
            "Requirement already satisfied: markdown>=2.6.8 in /usr/local/lib/python3.10/dist-packages (from tensorboard<2.19,>=2.18->tensorflow<3,>=2.13.0->tensorflowjs) (3.7)\n",
            "Requirement already satisfied: tensorboard-data-server<0.8.0,>=0.7.0 in /usr/local/lib/python3.10/dist-packages (from tensorboard<2.19,>=2.18->tensorflow<3,>=2.13.0->tensorflowjs) (0.7.2)\n",
            "Requirement already satisfied: werkzeug>=1.0.1 in /usr/local/lib/python3.10/dist-packages (from tensorboard<2.19,>=2.18->tensorflow<3,>=2.13.0->tensorflowjs) (3.1.3)\n",
            "Requirement already satisfied: chex>=0.1.87 in /usr/local/lib/python3.10/dist-packages (from optax->flax>=0.7.2->tensorflowjs) (0.1.87)\n",
            "Requirement already satisfied: etils[epy] in /usr/local/lib/python3.10/dist-packages (from optax->flax>=0.7.2->tensorflowjs) (1.11.0)\n",
            "Requirement already satisfied: nest_asyncio in /usr/local/lib/python3.10/dist-packages (from orbax-checkpoint->flax>=0.7.2->tensorflowjs) (1.6.0)\n",
            "Requirement already satisfied: humanize in /usr/local/lib/python3.10/dist-packages (from orbax-checkpoint->flax>=0.7.2->tensorflowjs) (4.11.0)\n",
            "Requirement already satisfied: python-dateutil>=2.8.2 in /usr/local/lib/python3.10/dist-packages (from pandas->tensorflow-decision-forests>=1.5.0->tensorflowjs) (2.8.2)\n",
            "Requirement already satisfied: pytz>=2020.1 in /usr/local/lib/python3.10/dist-packages (from pandas->tensorflow-decision-forests>=1.5.0->tensorflowjs) (2024.2)\n",
            "Requirement already satisfied: tzdata>=2022.7 in /usr/local/lib/python3.10/dist-packages (from pandas->tensorflow-decision-forests>=1.5.0->tensorflowjs) (2024.2)\n",
            "Requirement already satisfied: toolz>=0.9.0 in /usr/local/lib/python3.10/dist-packages (from chex>=0.1.87->optax->flax>=0.7.2->tensorflowjs) (0.12.1)\n",
            "Requirement already satisfied: mdurl~=0.1 in /usr/local/lib/python3.10/dist-packages (from markdown-it-py>=2.2.0->rich>=11.1->flax>=0.7.2->tensorflowjs) (0.1.2)\n",
            "Requirement already satisfied: MarkupSafe>=2.1.1 in /usr/local/lib/python3.10/dist-packages (from werkzeug>=1.0.1->tensorboard<2.19,>=2.18->tensorflow<3,>=2.13.0->tensorflowjs) (3.0.2)\n",
            "Requirement already satisfied: fsspec in /usr/local/lib/python3.10/dist-packages (from etils[epath,epy]->orbax-checkpoint->flax>=0.7.2->tensorflowjs) (2024.10.0)\n",
            "Requirement already satisfied: zipp in /usr/local/lib/python3.10/dist-packages (from etils[epath,epy]->orbax-checkpoint->flax>=0.7.2->tensorflowjs) (3.21.0)\n",
            "Downloading tensorflowjs-4.22.0-py3-none-any.whl (89 kB)\n",
            "\u001b[2K   \u001b[90m━━━━━━━━━━━━━━━━━━━━━━━━━━━━━━━━━━━━━━━━\u001b[0m \u001b[32m89.1/89.1 kB\u001b[0m \u001b[31m4.7 MB/s\u001b[0m eta \u001b[36m0:00:00\u001b[0m\n",
            "\u001b[?25hDownloading packaging-23.2-py3-none-any.whl (53 kB)\n",
            "\u001b[2K   \u001b[90m━━━━━━━━━━━━━━━━━━━━━━━━━━━━━━━━━━━━━━━━\u001b[0m \u001b[32m53.0/53.0 kB\u001b[0m \u001b[31m4.2 MB/s\u001b[0m eta \u001b[36m0:00:00\u001b[0m\n",
            "\u001b[?25hDownloading tensorflow_decision_forests-1.11.0-cp310-cp310-manylinux_2_17_x86_64.manylinux2014_x86_64.whl (15.9 MB)\n",
            "\u001b[2K   \u001b[90m━━━━━━━━━━━━━━━━━━━━━━━━━━━━━━━━━━━━━━━━\u001b[0m \u001b[32m15.9/15.9 MB\u001b[0m \u001b[31m92.6 MB/s\u001b[0m eta \u001b[36m0:00:00\u001b[0m\n",
            "\u001b[?25hDownloading tensorflow-2.18.0-cp310-cp310-manylinux_2_17_x86_64.manylinux2014_x86_64.whl (615.3 MB)\n",
            "\u001b[2K   \u001b[90m━━━━━━━━━━━━━━━━━━━━━━━━━━━━━━━━━━━━━━━━\u001b[0m \u001b[32m615.3/615.3 MB\u001b[0m \u001b[31m2.3 MB/s\u001b[0m eta \u001b[36m0:00:00\u001b[0m\n",
            "\u001b[?25hDownloading tf_keras-2.18.0-py3-none-any.whl (1.7 MB)\n",
            "\u001b[2K   \u001b[90m━━━━━━━━━━━━━━━━━━━━━━━━━━━━━━━━━━━━━━━━\u001b[0m \u001b[32m1.7/1.7 MB\u001b[0m \u001b[31m67.3 MB/s\u001b[0m eta \u001b[36m0:00:00\u001b[0m\n",
            "\u001b[?25hDownloading tensorboard-2.18.0-py3-none-any.whl (5.5 MB)\n",
            "\u001b[2K   \u001b[90m━━━━━━━━━━━━━━━━━━━━━━━━━━━━━━━━━━━━━━━━\u001b[0m \u001b[32m5.5/5.5 MB\u001b[0m \u001b[31m106.2 MB/s\u001b[0m eta \u001b[36m0:00:00\u001b[0m\n",
            "\u001b[?25hDownloading wurlitzer-3.1.1-py3-none-any.whl (8.6 kB)\n",
            "Downloading ydf-0.9.0-cp310-cp310-manylinux_2_17_x86_64.manylinux2014_x86_64.whl (9.5 MB)\n",
            "\u001b[2K   \u001b[90m━━━━━━━━━━━━━━━━━━━━━━━━━━━━━━━━━━━━━━━━\u001b[0m \u001b[32m9.5/9.5 MB\u001b[0m \u001b[31m29.4 MB/s\u001b[0m eta \u001b[36m0:00:00\u001b[0m\n",
            "\u001b[?25hInstalling collected packages: ydf, wurlitzer, packaging, tensorboard, tensorflow, tf-keras, tensorflow-decision-forests, tensorflowjs\n",
            "  Attempting uninstall: packaging\n",
            "    Found existing installation: packaging 24.2\n",
            "    Uninstalling packaging-24.2:\n",
            "      Successfully uninstalled packaging-24.2\n",
            "  Attempting uninstall: tensorboard\n",
            "    Found existing installation: tensorboard 2.17.1\n",
            "    Uninstalling tensorboard-2.17.1:\n",
            "      Successfully uninstalled tensorboard-2.17.1\n",
            "  Attempting uninstall: tensorflow\n",
            "    Found existing installation: tensorflow 2.17.1\n",
            "    Uninstalling tensorflow-2.17.1:\n",
            "      Successfully uninstalled tensorflow-2.17.1\n",
            "  Attempting uninstall: tf-keras\n",
            "    Found existing installation: tf_keras 2.17.0\n",
            "    Uninstalling tf_keras-2.17.0:\n",
            "      Successfully uninstalled tf_keras-2.17.0\n",
            "Successfully installed packaging-23.2 tensorboard-2.18.0 tensorflow-2.18.0 tensorflow-decision-forests-1.11.0 tensorflowjs-4.22.0 tf-keras-2.18.0 wurlitzer-3.1.1 ydf-0.9.0\n"
          ]
        }
      ],
      "source": [
        "!pip install tensorflowjs"
      ]
    },
    {
      "cell_type": "code",
      "execution_count": null,
      "metadata": {
        "colab": {
          "base_uri": "https://localhost:8080/"
        },
        "collapsed": true,
        "id": "VvsC9cOApbFW",
        "outputId": "464fca27-f868-4cdc-e8b3-a6abd7cace63"
      },
      "outputs": [
        {
          "name": "stdout",
          "output_type": "stream",
          "text": [
            "Collecting tensorflow==2.15.0\n",
            "  Downloading tensorflow-2.15.0-cp310-cp310-manylinux_2_17_x86_64.manylinux2014_x86_64.whl.metadata (4.4 kB)\n",
            "Requirement already satisfied: absl-py>=1.0.0 in /usr/local/lib/python3.10/dist-packages (from tensorflow==2.15.0) (1.4.0)\n",
            "Requirement already satisfied: astunparse>=1.6.0 in /usr/local/lib/python3.10/dist-packages (from tensorflow==2.15.0) (1.6.3)\n",
            "Requirement already satisfied: flatbuffers>=23.5.26 in /usr/local/lib/python3.10/dist-packages (from tensorflow==2.15.0) (24.3.25)\n",
            "Requirement already satisfied: gast!=0.5.0,!=0.5.1,!=0.5.2,>=0.2.1 in /usr/local/lib/python3.10/dist-packages (from tensorflow==2.15.0) (0.6.0)\n",
            "Requirement already satisfied: google-pasta>=0.1.1 in /usr/local/lib/python3.10/dist-packages (from tensorflow==2.15.0) (0.2.0)\n",
            "Requirement already satisfied: h5py>=2.9.0 in /usr/local/lib/python3.10/dist-packages (from tensorflow==2.15.0) (3.12.1)\n",
            "Requirement already satisfied: libclang>=13.0.0 in /usr/local/lib/python3.10/dist-packages (from tensorflow==2.15.0) (18.1.1)\n",
            "Collecting ml-dtypes~=0.2.0 (from tensorflow==2.15.0)\n",
            "  Downloading ml_dtypes-0.2.0-cp310-cp310-manylinux_2_17_x86_64.manylinux2014_x86_64.whl.metadata (20 kB)\n",
            "Requirement already satisfied: numpy<2.0.0,>=1.23.5 in /usr/local/lib/python3.10/dist-packages (from tensorflow==2.15.0) (1.26.4)\n",
            "Requirement already satisfied: opt-einsum>=2.3.2 in /usr/local/lib/python3.10/dist-packages (from tensorflow==2.15.0) (3.4.0)\n",
            "Requirement already satisfied: packaging in /usr/local/lib/python3.10/dist-packages (from tensorflow==2.15.0) (23.2)\n",
            "Requirement already satisfied: protobuf!=4.21.0,!=4.21.1,!=4.21.2,!=4.21.3,!=4.21.4,!=4.21.5,<5.0.0dev,>=3.20.3 in /usr/local/lib/python3.10/dist-packages (from tensorflow==2.15.0) (4.25.5)\n",
            "Requirement already satisfied: setuptools in /usr/local/lib/python3.10/dist-packages (from tensorflow==2.15.0) (75.1.0)\n",
            "Requirement already satisfied: six>=1.12.0 in /usr/local/lib/python3.10/dist-packages (from tensorflow==2.15.0) (1.16.0)\n",
            "Requirement already satisfied: termcolor>=1.1.0 in /usr/local/lib/python3.10/dist-packages (from tensorflow==2.15.0) (2.5.0)\n",
            "Requirement already satisfied: typing-extensions>=3.6.6 in /usr/local/lib/python3.10/dist-packages (from tensorflow==2.15.0) (4.12.2)\n",
            "Collecting wrapt<1.15,>=1.11.0 (from tensorflow==2.15.0)\n",
            "  Downloading wrapt-1.14.1-cp310-cp310-manylinux_2_5_x86_64.manylinux1_x86_64.manylinux_2_17_x86_64.manylinux2014_x86_64.whl.metadata (6.7 kB)\n",
            "Requirement already satisfied: tensorflow-io-gcs-filesystem>=0.23.1 in /usr/local/lib/python3.10/dist-packages (from tensorflow==2.15.0) (0.37.1)\n",
            "Requirement already satisfied: grpcio<2.0,>=1.24.3 in /usr/local/lib/python3.10/dist-packages (from tensorflow==2.15.0) (1.68.1)\n",
            "Collecting tensorboard<2.16,>=2.15 (from tensorflow==2.15.0)\n",
            "  Downloading tensorboard-2.15.2-py3-none-any.whl.metadata (1.7 kB)\n",
            "Collecting tensorflow-estimator<2.16,>=2.15.0 (from tensorflow==2.15.0)\n",
            "  Downloading tensorflow_estimator-2.15.0-py2.py3-none-any.whl.metadata (1.3 kB)\n",
            "Collecting keras<2.16,>=2.15.0 (from tensorflow==2.15.0)\n",
            "  Downloading keras-2.15.0-py3-none-any.whl.metadata (2.4 kB)\n",
            "Requirement already satisfied: wheel<1.0,>=0.23.0 in /usr/local/lib/python3.10/dist-packages (from astunparse>=1.6.0->tensorflow==2.15.0) (0.45.1)\n",
            "Requirement already satisfied: google-auth<3,>=1.6.3 in /usr/local/lib/python3.10/dist-packages (from tensorboard<2.16,>=2.15->tensorflow==2.15.0) (2.27.0)\n",
            "Requirement already satisfied: google-auth-oauthlib<2,>=0.5 in /usr/local/lib/python3.10/dist-packages (from tensorboard<2.16,>=2.15->tensorflow==2.15.0) (1.2.1)\n",
            "Requirement already satisfied: markdown>=2.6.8 in /usr/local/lib/python3.10/dist-packages (from tensorboard<2.16,>=2.15->tensorflow==2.15.0) (3.7)\n",
            "Requirement already satisfied: requests<3,>=2.21.0 in /usr/local/lib/python3.10/dist-packages (from tensorboard<2.16,>=2.15->tensorflow==2.15.0) (2.32.3)\n",
            "Requirement already satisfied: tensorboard-data-server<0.8.0,>=0.7.0 in /usr/local/lib/python3.10/dist-packages (from tensorboard<2.16,>=2.15->tensorflow==2.15.0) (0.7.2)\n",
            "Requirement already satisfied: werkzeug>=1.0.1 in /usr/local/lib/python3.10/dist-packages (from tensorboard<2.16,>=2.15->tensorflow==2.15.0) (3.1.3)\n",
            "Requirement already satisfied: cachetools<6.0,>=2.0.0 in /usr/local/lib/python3.10/dist-packages (from google-auth<3,>=1.6.3->tensorboard<2.16,>=2.15->tensorflow==2.15.0) (5.5.0)\n",
            "Requirement already satisfied: pyasn1-modules>=0.2.1 in /usr/local/lib/python3.10/dist-packages (from google-auth<3,>=1.6.3->tensorboard<2.16,>=2.15->tensorflow==2.15.0) (0.4.1)\n",
            "Requirement already satisfied: rsa<5,>=3.1.4 in /usr/local/lib/python3.10/dist-packages (from google-auth<3,>=1.6.3->tensorboard<2.16,>=2.15->tensorflow==2.15.0) (4.9)\n",
            "Requirement already satisfied: requests-oauthlib>=0.7.0 in /usr/local/lib/python3.10/dist-packages (from google-auth-oauthlib<2,>=0.5->tensorboard<2.16,>=2.15->tensorflow==2.15.0) (1.3.1)\n",
            "Requirement already satisfied: charset-normalizer<4,>=2 in /usr/local/lib/python3.10/dist-packages (from requests<3,>=2.21.0->tensorboard<2.16,>=2.15->tensorflow==2.15.0) (3.4.0)\n",
            "Requirement already satisfied: idna<4,>=2.5 in /usr/local/lib/python3.10/dist-packages (from requests<3,>=2.21.0->tensorboard<2.16,>=2.15->tensorflow==2.15.0) (3.10)\n",
            "Requirement already satisfied: urllib3<3,>=1.21.1 in /usr/local/lib/python3.10/dist-packages (from requests<3,>=2.21.0->tensorboard<2.16,>=2.15->tensorflow==2.15.0) (2.2.3)\n",
            "Requirement already satisfied: certifi>=2017.4.17 in /usr/local/lib/python3.10/dist-packages (from requests<3,>=2.21.0->tensorboard<2.16,>=2.15->tensorflow==2.15.0) (2024.8.30)\n",
            "Requirement already satisfied: MarkupSafe>=2.1.1 in /usr/local/lib/python3.10/dist-packages (from werkzeug>=1.0.1->tensorboard<2.16,>=2.15->tensorflow==2.15.0) (3.0.2)\n",
            "Requirement already satisfied: pyasn1<0.7.0,>=0.4.6 in /usr/local/lib/python3.10/dist-packages (from pyasn1-modules>=0.2.1->google-auth<3,>=1.6.3->tensorboard<2.16,>=2.15->tensorflow==2.15.0) (0.6.1)\n",
            "Requirement already satisfied: oauthlib>=3.0.0 in /usr/local/lib/python3.10/dist-packages (from requests-oauthlib>=0.7.0->google-auth-oauthlib<2,>=0.5->tensorboard<2.16,>=2.15->tensorflow==2.15.0) (3.2.2)\n",
            "Downloading tensorflow-2.15.0-cp310-cp310-manylinux_2_17_x86_64.manylinux2014_x86_64.whl (475.2 MB)\n",
            "\u001b[2K   \u001b[90m━━━━━━━━━━━━━━━━━━━━━━━━━━━━━━━━━━━━━━━━\u001b[0m \u001b[32m475.2/475.2 MB\u001b[0m \u001b[31m2.5 MB/s\u001b[0m eta \u001b[36m0:00:00\u001b[0m\n",
            "\u001b[?25hDownloading keras-2.15.0-py3-none-any.whl (1.7 MB)\n",
            "\u001b[2K   \u001b[90m━━━━━━━━━━━━━━━━━━━━━━━━━━━━━━━━━━━━━━━━\u001b[0m \u001b[32m1.7/1.7 MB\u001b[0m \u001b[31m55.3 MB/s\u001b[0m eta \u001b[36m0:00:00\u001b[0m\n",
            "\u001b[?25hDownloading ml_dtypes-0.2.0-cp310-cp310-manylinux_2_17_x86_64.manylinux2014_x86_64.whl (1.0 MB)\n",
            "\u001b[2K   \u001b[90m━━━━━━━━━━━━━━━━━━━━━━━━━━━━━━━━━━━━━━━━\u001b[0m \u001b[32m1.0/1.0 MB\u001b[0m \u001b[31m41.4 MB/s\u001b[0m eta \u001b[36m0:00:00\u001b[0m\n",
            "\u001b[?25hDownloading tensorboard-2.15.2-py3-none-any.whl (5.5 MB)\n",
            "\u001b[2K   \u001b[90m━━━━━━━━━━━━━━━━━━━━━━━━━━━━━━━━━━━━━━━━\u001b[0m \u001b[32m5.5/5.5 MB\u001b[0m \u001b[31m74.9 MB/s\u001b[0m eta \u001b[36m0:00:00\u001b[0m\n",
            "\u001b[?25hDownloading tensorflow_estimator-2.15.0-py2.py3-none-any.whl (441 kB)\n",
            "\u001b[2K   \u001b[90m━━━━━━━━━━━━━━━━━━━━━━━━━━━━━━━━━━━━━━━━\u001b[0m \u001b[32m442.0/442.0 kB\u001b[0m \u001b[31m29.1 MB/s\u001b[0m eta \u001b[36m0:00:00\u001b[0m\n",
            "\u001b[?25hDownloading wrapt-1.14.1-cp310-cp310-manylinux_2_5_x86_64.manylinux1_x86_64.manylinux_2_17_x86_64.manylinux2014_x86_64.whl (77 kB)\n",
            "\u001b[2K   \u001b[90m━━━━━━━━━━━━━━━━━━━━━━━━━━━━━━━━━━━━━━━━\u001b[0m \u001b[32m77.9/77.9 kB\u001b[0m \u001b[31m7.0 MB/s\u001b[0m eta \u001b[36m0:00:00\u001b[0m\n",
            "\u001b[?25hInstalling collected packages: wrapt, tensorflow-estimator, ml-dtypes, keras, tensorboard, tensorflow\n",
            "  Attempting uninstall: wrapt\n",
            "    Found existing installation: wrapt 1.17.0\n",
            "    Uninstalling wrapt-1.17.0:\n",
            "      Successfully uninstalled wrapt-1.17.0\n",
            "  Attempting uninstall: ml-dtypes\n",
            "    Found existing installation: ml-dtypes 0.4.1\n",
            "    Uninstalling ml-dtypes-0.4.1:\n",
            "      Successfully uninstalled ml-dtypes-0.4.1\n",
            "  Attempting uninstall: keras\n",
            "    Found existing installation: keras 3.5.0\n",
            "    Uninstalling keras-3.5.0:\n",
            "      Successfully uninstalled keras-3.5.0\n",
            "  Attempting uninstall: tensorboard\n",
            "    Found existing installation: tensorboard 2.18.0\n",
            "    Uninstalling tensorboard-2.18.0:\n",
            "      Successfully uninstalled tensorboard-2.18.0\n",
            "  Attempting uninstall: tensorflow\n",
            "    Found existing installation: tensorflow 2.18.0\n",
            "    Uninstalling tensorflow-2.18.0:\n",
            "      Successfully uninstalled tensorflow-2.18.0\n",
            "\u001b[31mERROR: pip's dependency resolver does not currently take into account all the packages that are installed. This behaviour is the source of the following dependency conflicts.\n",
            "tensorflow-decision-forests 1.11.0 requires tensorflow==2.18.0, but you have tensorflow 2.15.0 which is incompatible.\n",
            "tensorstore 0.1.69 requires ml-dtypes>=0.3.1, but you have ml-dtypes 0.2.0 which is incompatible.\n",
            "tf-keras 2.18.0 requires tensorflow<2.19,>=2.18, but you have tensorflow 2.15.0 which is incompatible.\u001b[0m\u001b[31m\n",
            "\u001b[0mSuccessfully installed keras-2.15.0 ml-dtypes-0.2.0 tensorboard-2.15.2 tensorflow-2.15.0 tensorflow-estimator-2.15.0 wrapt-1.14.1\n"
          ]
        }
      ],
      "source": [
        "!pip install tensorflow==2.15.0"
      ]
    },
    {
      "cell_type": "code",
      "execution_count": null,
      "metadata": {
        "colab": {
          "base_uri": "https://localhost:8080/"
        },
        "id": "bxvoTerRrvgq",
        "outputId": "dd394737-57ec-40e4-c12b-ec431f2c7adf"
      },
      "outputs": [
        {
          "name": "stdout",
          "output_type": "stream",
          "text": [
            "Collecting tensorflow_decision_forests==1.8.1\n",
            "  Downloading tensorflow_decision_forests-1.8.1-cp310-cp310-manylinux_2_17_x86_64.manylinux2014_x86_64.whl.metadata (6.0 kB)\n",
            "Requirement already satisfied: numpy in /usr/local/lib/python3.10/dist-packages (from tensorflow_decision_forests==1.8.1) (1.26.4)\n",
            "Requirement already satisfied: pandas in /usr/local/lib/python3.10/dist-packages (from tensorflow_decision_forests==1.8.1) (2.2.2)\n",
            "Requirement already satisfied: tensorflow~=2.15.0 in /usr/local/lib/python3.10/dist-packages (from tensorflow_decision_forests==1.8.1) (2.15.0)\n",
            "Requirement already satisfied: six in /usr/local/lib/python3.10/dist-packages (from tensorflow_decision_forests==1.8.1) (1.16.0)\n",
            "Requirement already satisfied: absl-py in /usr/local/lib/python3.10/dist-packages (from tensorflow_decision_forests==1.8.1) (1.4.0)\n",
            "Requirement already satisfied: wheel in /usr/local/lib/python3.10/dist-packages (from tensorflow_decision_forests==1.8.1) (0.45.1)\n",
            "Requirement already satisfied: wurlitzer in /usr/local/lib/python3.10/dist-packages (from tensorflow_decision_forests==1.8.1) (3.1.1)\n",
            "Requirement already satisfied: astunparse>=1.6.0 in /usr/local/lib/python3.10/dist-packages (from tensorflow~=2.15.0->tensorflow_decision_forests==1.8.1) (1.6.3)\n",
            "Requirement already satisfied: flatbuffers>=23.5.26 in /usr/local/lib/python3.10/dist-packages (from tensorflow~=2.15.0->tensorflow_decision_forests==1.8.1) (24.3.25)\n",
            "Requirement already satisfied: gast!=0.5.0,!=0.5.1,!=0.5.2,>=0.2.1 in /usr/local/lib/python3.10/dist-packages (from tensorflow~=2.15.0->tensorflow_decision_forests==1.8.1) (0.6.0)\n",
            "Requirement already satisfied: google-pasta>=0.1.1 in /usr/local/lib/python3.10/dist-packages (from tensorflow~=2.15.0->tensorflow_decision_forests==1.8.1) (0.2.0)\n",
            "Requirement already satisfied: h5py>=2.9.0 in /usr/local/lib/python3.10/dist-packages (from tensorflow~=2.15.0->tensorflow_decision_forests==1.8.1) (3.12.1)\n",
            "Requirement already satisfied: libclang>=13.0.0 in /usr/local/lib/python3.10/dist-packages (from tensorflow~=2.15.0->tensorflow_decision_forests==1.8.1) (18.1.1)\n",
            "Requirement already satisfied: ml-dtypes~=0.2.0 in /usr/local/lib/python3.10/dist-packages (from tensorflow~=2.15.0->tensorflow_decision_forests==1.8.1) (0.2.0)\n",
            "Requirement already satisfied: opt-einsum>=2.3.2 in /usr/local/lib/python3.10/dist-packages (from tensorflow~=2.15.0->tensorflow_decision_forests==1.8.1) (3.4.0)\n",
            "Requirement already satisfied: packaging in /usr/local/lib/python3.10/dist-packages (from tensorflow~=2.15.0->tensorflow_decision_forests==1.8.1) (23.2)\n",
            "Requirement already satisfied: protobuf!=4.21.0,!=4.21.1,!=4.21.2,!=4.21.3,!=4.21.4,!=4.21.5,<5.0.0dev,>=3.20.3 in /usr/local/lib/python3.10/dist-packages (from tensorflow~=2.15.0->tensorflow_decision_forests==1.8.1) (4.25.5)\n",
            "Requirement already satisfied: setuptools in /usr/local/lib/python3.10/dist-packages (from tensorflow~=2.15.0->tensorflow_decision_forests==1.8.1) (75.1.0)\n",
            "Requirement already satisfied: termcolor>=1.1.0 in /usr/local/lib/python3.10/dist-packages (from tensorflow~=2.15.0->tensorflow_decision_forests==1.8.1) (2.5.0)\n",
            "Requirement already satisfied: typing-extensions>=3.6.6 in /usr/local/lib/python3.10/dist-packages (from tensorflow~=2.15.0->tensorflow_decision_forests==1.8.1) (4.12.2)\n",
            "Requirement already satisfied: wrapt<1.15,>=1.11.0 in /usr/local/lib/python3.10/dist-packages (from tensorflow~=2.15.0->tensorflow_decision_forests==1.8.1) (1.14.1)\n",
            "Requirement already satisfied: tensorflow-io-gcs-filesystem>=0.23.1 in /usr/local/lib/python3.10/dist-packages (from tensorflow~=2.15.0->tensorflow_decision_forests==1.8.1) (0.37.1)\n",
            "Requirement already satisfied: grpcio<2.0,>=1.24.3 in /usr/local/lib/python3.10/dist-packages (from tensorflow~=2.15.0->tensorflow_decision_forests==1.8.1) (1.68.1)\n",
            "Requirement already satisfied: tensorboard<2.16,>=2.15 in /usr/local/lib/python3.10/dist-packages (from tensorflow~=2.15.0->tensorflow_decision_forests==1.8.1) (2.15.2)\n",
            "Requirement already satisfied: tensorflow-estimator<2.16,>=2.15.0 in /usr/local/lib/python3.10/dist-packages (from tensorflow~=2.15.0->tensorflow_decision_forests==1.8.1) (2.15.0)\n",
            "Requirement already satisfied: keras<2.16,>=2.15.0 in /usr/local/lib/python3.10/dist-packages (from tensorflow~=2.15.0->tensorflow_decision_forests==1.8.1) (2.15.0)\n",
            "Requirement already satisfied: python-dateutil>=2.8.2 in /usr/local/lib/python3.10/dist-packages (from pandas->tensorflow_decision_forests==1.8.1) (2.8.2)\n",
            "Requirement already satisfied: pytz>=2020.1 in /usr/local/lib/python3.10/dist-packages (from pandas->tensorflow_decision_forests==1.8.1) (2024.2)\n",
            "Requirement already satisfied: tzdata>=2022.7 in /usr/local/lib/python3.10/dist-packages (from pandas->tensorflow_decision_forests==1.8.1) (2024.2)\n",
            "Requirement already satisfied: google-auth<3,>=1.6.3 in /usr/local/lib/python3.10/dist-packages (from tensorboard<2.16,>=2.15->tensorflow~=2.15.0->tensorflow_decision_forests==1.8.1) (2.27.0)\n",
            "Requirement already satisfied: google-auth-oauthlib<2,>=0.5 in /usr/local/lib/python3.10/dist-packages (from tensorboard<2.16,>=2.15->tensorflow~=2.15.0->tensorflow_decision_forests==1.8.1) (1.2.1)\n",
            "Requirement already satisfied: markdown>=2.6.8 in /usr/local/lib/python3.10/dist-packages (from tensorboard<2.16,>=2.15->tensorflow~=2.15.0->tensorflow_decision_forests==1.8.1) (3.7)\n",
            "Requirement already satisfied: requests<3,>=2.21.0 in /usr/local/lib/python3.10/dist-packages (from tensorboard<2.16,>=2.15->tensorflow~=2.15.0->tensorflow_decision_forests==1.8.1) (2.32.3)\n",
            "Requirement already satisfied: tensorboard-data-server<0.8.0,>=0.7.0 in /usr/local/lib/python3.10/dist-packages (from tensorboard<2.16,>=2.15->tensorflow~=2.15.0->tensorflow_decision_forests==1.8.1) (0.7.2)\n",
            "Requirement already satisfied: werkzeug>=1.0.1 in /usr/local/lib/python3.10/dist-packages (from tensorboard<2.16,>=2.15->tensorflow~=2.15.0->tensorflow_decision_forests==1.8.1) (3.1.3)\n",
            "Requirement already satisfied: cachetools<6.0,>=2.0.0 in /usr/local/lib/python3.10/dist-packages (from google-auth<3,>=1.6.3->tensorboard<2.16,>=2.15->tensorflow~=2.15.0->tensorflow_decision_forests==1.8.1) (5.5.0)\n",
            "Requirement already satisfied: pyasn1-modules>=0.2.1 in /usr/local/lib/python3.10/dist-packages (from google-auth<3,>=1.6.3->tensorboard<2.16,>=2.15->tensorflow~=2.15.0->tensorflow_decision_forests==1.8.1) (0.4.1)\n",
            "Requirement already satisfied: rsa<5,>=3.1.4 in /usr/local/lib/python3.10/dist-packages (from google-auth<3,>=1.6.3->tensorboard<2.16,>=2.15->tensorflow~=2.15.0->tensorflow_decision_forests==1.8.1) (4.9)\n",
            "Requirement already satisfied: requests-oauthlib>=0.7.0 in /usr/local/lib/python3.10/dist-packages (from google-auth-oauthlib<2,>=0.5->tensorboard<2.16,>=2.15->tensorflow~=2.15.0->tensorflow_decision_forests==1.8.1) (1.3.1)\n",
            "Requirement already satisfied: charset-normalizer<4,>=2 in /usr/local/lib/python3.10/dist-packages (from requests<3,>=2.21.0->tensorboard<2.16,>=2.15->tensorflow~=2.15.0->tensorflow_decision_forests==1.8.1) (3.4.0)\n",
            "Requirement already satisfied: idna<4,>=2.5 in /usr/local/lib/python3.10/dist-packages (from requests<3,>=2.21.0->tensorboard<2.16,>=2.15->tensorflow~=2.15.0->tensorflow_decision_forests==1.8.1) (3.10)\n",
            "Requirement already satisfied: urllib3<3,>=1.21.1 in /usr/local/lib/python3.10/dist-packages (from requests<3,>=2.21.0->tensorboard<2.16,>=2.15->tensorflow~=2.15.0->tensorflow_decision_forests==1.8.1) (2.2.3)\n",
            "Requirement already satisfied: certifi>=2017.4.17 in /usr/local/lib/python3.10/dist-packages (from requests<3,>=2.21.0->tensorboard<2.16,>=2.15->tensorflow~=2.15.0->tensorflow_decision_forests==1.8.1) (2024.8.30)\n",
            "Requirement already satisfied: MarkupSafe>=2.1.1 in /usr/local/lib/python3.10/dist-packages (from werkzeug>=1.0.1->tensorboard<2.16,>=2.15->tensorflow~=2.15.0->tensorflow_decision_forests==1.8.1) (3.0.2)\n",
            "Requirement already satisfied: pyasn1<0.7.0,>=0.4.6 in /usr/local/lib/python3.10/dist-packages (from pyasn1-modules>=0.2.1->google-auth<3,>=1.6.3->tensorboard<2.16,>=2.15->tensorflow~=2.15.0->tensorflow_decision_forests==1.8.1) (0.6.1)\n",
            "Requirement already satisfied: oauthlib>=3.0.0 in /usr/local/lib/python3.10/dist-packages (from requests-oauthlib>=0.7.0->google-auth-oauthlib<2,>=0.5->tensorboard<2.16,>=2.15->tensorflow~=2.15.0->tensorflow_decision_forests==1.8.1) (3.2.2)\n",
            "Downloading tensorflow_decision_forests-1.8.1-cp310-cp310-manylinux_2_17_x86_64.manylinux2014_x86_64.whl (15.3 MB)\n",
            "\u001b[2K   \u001b[90m━━━━━━━━━━━━━━━━━━━━━━━━━━━━━━━━━━━━━━━━\u001b[0m \u001b[32m15.3/15.3 MB\u001b[0m \u001b[31m13.8 MB/s\u001b[0m eta \u001b[36m0:00:00\u001b[0m\n",
            "\u001b[?25hInstalling collected packages: tensorflow_decision_forests\n",
            "  Attempting uninstall: tensorflow_decision_forests\n",
            "    Found existing installation: tensorflow_decision_forests 1.11.0\n",
            "    Uninstalling tensorflow_decision_forests-1.11.0:\n",
            "      Successfully uninstalled tensorflow_decision_forests-1.11.0\n",
            "Successfully installed tensorflow_decision_forests-1.8.1\n"
          ]
        }
      ],
      "source": [
        "!pip3 install tensorflow_decision_forests==1.8.1"
      ]
    },
    {
      "cell_type": "code",
      "execution_count": null,
      "metadata": {
        "id": "cxvJZWNjttlE"
      },
      "outputs": [],
      "source": [
        "import pandas as pd\n",
        "import numpy as np\n",
        "import tensorflow as tf\n",
        "import matplotlib.pyplot as plt\n",
        "import os\n",
        "import shutil\n",
        "from google.colab import drive\n",
        "from sklearn.model_selection import train_test_split\n",
        "from tensorflow.keras.preprocessing.image import ImageDataGenerator\n",
        "from PIL import Image\n",
        "from sklearn.metrics import confusion_matrix, ConfusionMatrixDisplay"
      ]
    },
    {
      "cell_type": "markdown",
      "metadata": {
        "id": "CxhTV9IinLSV"
      },
      "source": [
        "# Import Dataset"
      ]
    },
    {
      "cell_type": "markdown",
      "metadata": {
        "id": "VGWf11dwstYO"
      },
      "source": [
        "## Download Data from Kaggle"
      ]
    },
    {
      "cell_type": "code",
      "execution_count": null,
      "metadata": {
        "colab": {
          "base_uri": "https://localhost:8080/"
        },
        "id": "cLSon-MRjn1f",
        "outputId": "9f2a81f6-ea27-476e-ae9b-0101bec25bcc"
      },
      "outputs": [
        {
          "name": "stdout",
          "output_type": "stream",
          "text": [
            "Dataset URL: https://www.kaggle.com/datasets/dwikrisda/skin-problem-dataset\n",
            "License(s): unknown\n",
            "Downloading skin-problem-dataset.zip to /content\n",
            " 85% 29.0M/34.1M [00:02<00:00, 14.4MB/s]\n",
            "100% 34.1M/34.1M [00:02<00:00, 15.5MB/s]\n",
            "Archive:  skin-problem-dataset.zip\n",
            "  inflating: Skin Problem Dataset/Test/Acne/Acne_100.jpg  \n",
            "  inflating: Skin Problem Dataset/Test/Acne/Acne_101.jpg  \n",
            "  inflating: Skin Problem Dataset/Test/Acne/Acne_102.jpg  \n",
            "  inflating: Skin Problem Dataset/Test/Acne/Acne_103.jpg  \n",
            "  inflating: Skin Problem Dataset/Test/Acne/Acne_105.jpg  \n",
            "  inflating: Skin Problem Dataset/Test/Acne/Acne_106.jpg  \n",
            "  inflating: Skin Problem Dataset/Test/Acne/Acne_108.jpg  \n",
            "  inflating: Skin Problem Dataset/Test/Acne/Acne_109.jpg  \n",
            "  inflating: Skin Problem Dataset/Test/Acne/Acne_11.jpg  \n",
            "  inflating: Skin Problem Dataset/Test/Acne/Acne_112.jpg  \n",
            "  inflating: Skin Problem Dataset/Test/Acne/Acne_12.jpg  \n",
            "  inflating: Skin Problem Dataset/Test/Acne/Acne_14.jpg  \n",
            "  inflating: Skin Problem Dataset/Test/Acne/Acne_15.jpg  \n",
            "  inflating: Skin Problem Dataset/Test/Acne/Acne_16.jpg  \n",
            "  inflating: Skin Problem Dataset/Test/Acne/Acne_17.jpg  \n",
            "  inflating: Skin Problem Dataset/Test/Acne/Acne_18.jpg  \n",
            "  inflating: Skin Problem Dataset/Test/Acne/Acne_19.jpg  \n",
            "  inflating: Skin Problem Dataset/Test/Acne/Acne_20.jpg  \n",
            "  inflating: Skin Problem Dataset/Test/Acne/Acne_21.jpg  \n",
            "  inflating: Skin Problem Dataset/Test/Acne/Acne_22.jpg  \n",
            "  inflating: Skin Problem Dataset/Test/Acne/Acne_24.jpg  \n",
            "  inflating: Skin Problem Dataset/Test/Acne/Acne_25.jpg  \n",
            "  inflating: Skin Problem Dataset/Test/Acne/Acne_26.jpg  \n",
            "  inflating: Skin Problem Dataset/Test/Acne/Acne_27.jpg  \n",
            "  inflating: Skin Problem Dataset/Test/Acne/Acne_28.jpg  \n",
            "  inflating: Skin Problem Dataset/Test/Acne/Acne_29.jpg  \n",
            "  inflating: Skin Problem Dataset/Test/Acne/Acne_3.jpg  \n",
            "  inflating: Skin Problem Dataset/Test/Acne/Acne_31.jpg  \n",
            "  inflating: Skin Problem Dataset/Test/Acne/Acne_33.jpg  \n",
            "  inflating: Skin Problem Dataset/Test/Acne/Acne_34.jpg  \n",
            "  inflating: Skin Problem Dataset/Test/Acne/Acne_35.jpg  \n",
            "  inflating: Skin Problem Dataset/Test/Acne/Acne_36.jpg  \n",
            "  inflating: Skin Problem Dataset/Test/Acne/Acne_40.jpg  \n",
            "  inflating: Skin Problem Dataset/Test/Acne/Acne_41.jpg  \n",
            "  inflating: Skin Problem Dataset/Test/Acne/Acne_42.jpg  \n",
            "  inflating: Skin Problem Dataset/Test/Acne/Acne_44.jpg  \n",
            "  inflating: Skin Problem Dataset/Test/Acne/Acne_45.jpg  \n",
            "  inflating: Skin Problem Dataset/Test/Acne/Acne_46.jpg  \n",
            "  inflating: Skin Problem Dataset/Test/Acne/Acne_47.jpg  \n",
            "  inflating: Skin Problem Dataset/Test/Acne/Acne_49.jpg  \n",
            "  inflating: Skin Problem Dataset/Test/Acne/Acne_5.jpg  \n",
            "  inflating: Skin Problem Dataset/Test/Acne/Acne_50.jpg  \n",
            "  inflating: Skin Problem Dataset/Test/Acne/Acne_51.jpg  \n",
            "  inflating: Skin Problem Dataset/Test/Acne/Acne_52.jpg  \n",
            "  inflating: Skin Problem Dataset/Test/Acne/Acne_54.jpg  \n",
            "  inflating: Skin Problem Dataset/Test/Acne/Acne_56.jpg  \n",
            "  inflating: Skin Problem Dataset/Test/Acne/Acne_58.jpg  \n",
            "  inflating: Skin Problem Dataset/Test/Acne/Acne_62.jpg  \n",
            "  inflating: Skin Problem Dataset/Test/Acne/Acne_63.jpg  \n",
            "  inflating: Skin Problem Dataset/Test/Acne/Acne_65.jpg  \n",
            "  inflating: Skin Problem Dataset/Test/Acne/Acne_66.jpg  \n",
            "  inflating: Skin Problem Dataset/Test/Acne/Acne_67.jpg  \n",
            "  inflating: Skin Problem Dataset/Test/Acne/Acne_68.jpg  \n",
            "  inflating: Skin Problem Dataset/Test/Acne/Acne_69.jpg  \n",
            "  inflating: Skin Problem Dataset/Test/Acne/Acne_71.jpg  \n",
            "  inflating: Skin Problem Dataset/Test/Acne/Acne_72.jpg  \n",
            "  inflating: Skin Problem Dataset/Test/Acne/Acne_73.jpg  \n",
            "  inflating: Skin Problem Dataset/Test/Acne/Acne_74.jpg  \n",
            "  inflating: Skin Problem Dataset/Test/Acne/Acne_75.jpg  \n",
            "  inflating: Skin Problem Dataset/Test/Acne/Acne_76.jpg  \n",
            "  inflating: Skin Problem Dataset/Test/Acne/Acne_78.jpg  \n",
            "  inflating: Skin Problem Dataset/Test/Acne/Acne_8.jpg  \n",
            "  inflating: Skin Problem Dataset/Test/Acne/Acne_80.jpg  \n",
            "  inflating: Skin Problem Dataset/Test/Acne/Acne_81.jpg  \n",
            "  inflating: Skin Problem Dataset/Test/Acne/Acne_83.jpg  \n",
            "  inflating: Skin Problem Dataset/Test/Acne/Acne_84.jpg  \n",
            "  inflating: Skin Problem Dataset/Test/Acne/Acne_85.jpg  \n",
            "  inflating: Skin Problem Dataset/Test/Acne/Acne_86.jpg  \n",
            "  inflating: Skin Problem Dataset/Test/Acne/Acne_91.jpg  \n",
            "  inflating: Skin Problem Dataset/Test/Acne/Acne_92.jpg  \n",
            "  inflating: Skin Problem Dataset/Test/Acne/Acne_95.jpg  \n",
            "  inflating: Skin Problem Dataset/Test/Acne/Acne_97.jpg  \n",
            "  inflating: Skin Problem Dataset/Test/Bags/Picture10.jpg  \n",
            "  inflating: Skin Problem Dataset/Test/Bags/Picture11.jpg  \n",
            "  inflating: Skin Problem Dataset/Test/Bags/Picture12.jpg  \n",
            "  inflating: Skin Problem Dataset/Test/Bags/Picture13.jpg  \n",
            "  inflating: Skin Problem Dataset/Test/Bags/Picture14.jpg  \n",
            "  inflating: Skin Problem Dataset/Test/Bags/Picture15.jpg  \n",
            "  inflating: Skin Problem Dataset/Test/Bags/Picture16.jpg  \n",
            "  inflating: Skin Problem Dataset/Test/Bags/Picture17.jpg  \n",
            "  inflating: Skin Problem Dataset/Test/Bags/Picture18.jpg  \n",
            "  inflating: Skin Problem Dataset/Test/Bags/Picture19.jpg  \n",
            "  inflating: Skin Problem Dataset/Test/Bags/Picture2.jpg  \n",
            "  inflating: Skin Problem Dataset/Test/Bags/Picture20.jpg  \n",
            "  inflating: Skin Problem Dataset/Test/Bags/Picture21.jpg  \n",
            "  inflating: Skin Problem Dataset/Test/Bags/Picture22.jpg  \n",
            "  inflating: Skin Problem Dataset/Test/Bags/Picture23.jpg  \n",
            "  inflating: Skin Problem Dataset/Test/Bags/Picture24.jpg  \n",
            "  inflating: Skin Problem Dataset/Test/Bags/Picture25.jpg  \n",
            "  inflating: Skin Problem Dataset/Test/Bags/Picture26.jpg  \n",
            "  inflating: Skin Problem Dataset/Test/Bags/Picture27.jpg  \n",
            "  inflating: Skin Problem Dataset/Test/Bags/Picture3.jpg  \n",
            "  inflating: Skin Problem Dataset/Test/Bags/Picture32.jpg  \n",
            "  inflating: Skin Problem Dataset/Test/Bags/Picture33.jpg  \n",
            "  inflating: Skin Problem Dataset/Test/Bags/Picture35.jpg  \n",
            "  inflating: Skin Problem Dataset/Test/Bags/Picture37.jpg  \n",
            "  inflating: Skin Problem Dataset/Test/Bags/Picture38.jpg  \n",
            "  inflating: Skin Problem Dataset/Test/Bags/Picture39.jpg  \n",
            "  inflating: Skin Problem Dataset/Test/Bags/Picture4.jpg  \n",
            "  inflating: Skin Problem Dataset/Test/Bags/Picture40.jpg  \n",
            "  inflating: Skin Problem Dataset/Test/Bags/Picture41.jpg  \n",
            "  inflating: Skin Problem Dataset/Test/Bags/Picture42.jpg  \n",
            "  inflating: Skin Problem Dataset/Test/Bags/Picture43.jpg  \n",
            "  inflating: Skin Problem Dataset/Test/Bags/Picture5.jpg  \n",
            "  inflating: Skin Problem Dataset/Test/Bags/Picture6.jpg  \n",
            "  inflating: Skin Problem Dataset/Test/Bags/Picture7.jpg  \n",
            "  inflating: Skin Problem Dataset/Test/Bags/Picture8.jpg  \n",
            "  inflating: Skin Problem Dataset/Test/Bags/Picture9.jpg  \n",
            "  inflating: Skin Problem Dataset/Test/Bags/bags 2.jpg  \n",
            "  inflating: Skin Problem Dataset/Test/Bags/download (4).jpg  \n",
            "  inflating: Skin Problem Dataset/Test/Bags/download (5).jpg  \n",
            "  inflating: Skin Problem Dataset/Test/Bags/download (6).jpg  \n",
            "  inflating: Skin Problem Dataset/Test/Bags/download (7).jpg  \n",
            "  inflating: Skin Problem Dataset/Test/Bags/download (9).jpg  \n",
            "  inflating: Skin Problem Dataset/Test/Bags/download.jpg  \n",
            "  inflating: Skin Problem Dataset/Test/Bags/images (1).jpg  \n",
            "  inflating: Skin Problem Dataset/Test/Bags/images (2).jpg  \n",
            "  inflating: Skin Problem Dataset/Test/Bags/images (3).jpg  \n",
            "  inflating: Skin Problem Dataset/Test/Bags/images (4).jpg  \n",
            "  inflating: Skin Problem Dataset/Test/Bags/images (7).jpg  \n",
            "  inflating: Skin Problem Dataset/Test/Bags/images (8).jpg  \n",
            "  inflating: Skin Problem Dataset/Test/Bags/images.jpg  \n",
            "  inflating: Skin Problem Dataset/Test/Bopeng/000001.jpg  \n",
            "  inflating: Skin Problem Dataset/Test/Bopeng/000002.jpg  \n",
            "  inflating: Skin Problem Dataset/Test/Bopeng/000003.jpg  \n",
            "  inflating: Skin Problem Dataset/Test/Bopeng/000004.jpg  \n",
            "  inflating: Skin Problem Dataset/Test/Bopeng/000006.jpg  \n",
            "  inflating: Skin Problem Dataset/Test/Bopeng/000007.jpg  \n",
            "  inflating: Skin Problem Dataset/Test/Bopeng/000008.jpg  \n",
            "  inflating: Skin Problem Dataset/Test/Bopeng/000010.jpg  \n",
            "  inflating: Skin Problem Dataset/Test/Bopeng/000015.jpg  \n",
            "  inflating: Skin Problem Dataset/Test/Bopeng/000017.jpg  \n",
            "  inflating: Skin Problem Dataset/Test/Bopeng/000018.jpg  \n",
            "  inflating: Skin Problem Dataset/Test/Bopeng/000019.jpg  \n",
            "  inflating: Skin Problem Dataset/Test/Bopeng/000020.jpg  \n",
            "  inflating: Skin Problem Dataset/Test/Bopeng/000021.jpg  \n",
            "  inflating: Skin Problem Dataset/Test/Bopeng/000024.jpg  \n",
            "  inflating: Skin Problem Dataset/Test/Bopeng/000026.jpg  \n",
            "  inflating: Skin Problem Dataset/Test/Bopeng/000027.jpg  \n",
            "  inflating: Skin Problem Dataset/Test/Bopeng/000028.jpg  \n",
            "  inflating: Skin Problem Dataset/Test/Bopeng/000030.jpg  \n",
            "  inflating: Skin Problem Dataset/Test/Bopeng/000033.jpg  \n",
            "  inflating: Skin Problem Dataset/Test/Bopeng/000034.jpg  \n",
            "  inflating: Skin Problem Dataset/Test/Bopeng/000035.jpg  \n",
            "  inflating: Skin Problem Dataset/Test/Bopeng/000037.jpg  \n",
            "  inflating: Skin Problem Dataset/Test/Bopeng/000038.jpg  \n",
            "  inflating: Skin Problem Dataset/Test/Bopeng/000039.jpg  \n",
            "  inflating: Skin Problem Dataset/Test/Bopeng/000040.jpg  \n",
            "  inflating: Skin Problem Dataset/Test/Bopeng/000041.jpg  \n",
            "  inflating: Skin Problem Dataset/Test/Bopeng/000042.jpg  \n",
            "  inflating: Skin Problem Dataset/Test/Bopeng/000043.jpg  \n",
            "  inflating: Skin Problem Dataset/Test/Bopeng/000044.jpg  \n",
            "  inflating: Skin Problem Dataset/Test/Bopeng/000045.jpg  \n",
            "  inflating: Skin Problem Dataset/Test/Bopeng/000046.jpg  \n",
            "  inflating: Skin Problem Dataset/Test/Bopeng/000048.jpg  \n",
            "  inflating: Skin Problem Dataset/Test/Bopeng/000049.jpg  \n",
            "  inflating: Skin Problem Dataset/Test/Bopeng/000050.jpg  \n",
            "  inflating: Skin Problem Dataset/Test/Bopeng/000054.jpg  \n",
            "  inflating: Skin Problem Dataset/Test/Bopeng/000055.jpg  \n",
            "  inflating: Skin Problem Dataset/Test/Bopeng/000056.jpg  \n",
            "  inflating: Skin Problem Dataset/Test/Bopeng/000057.jpg  \n",
            "  inflating: Skin Problem Dataset/Test/Bopeng/000075.jpg  \n",
            "  inflating: Skin Problem Dataset/Test/Bopeng/000077.jpg  \n",
            "  inflating: Skin Problem Dataset/Test/Bopeng/000078.jpg  \n",
            "  inflating: Skin Problem Dataset/Test/Bopeng/000081.jpg  \n",
            "  inflating: Skin Problem Dataset/Test/Bopeng/000089.jpg  \n",
            "  inflating: Skin Problem Dataset/Test/Bopeng/000093.jpg  \n",
            "  inflating: Skin Problem Dataset/Test/Bopeng/000095.jpg  \n",
            "  inflating: Skin Problem Dataset/Test/Bopeng/000097.jpg  \n",
            "  inflating: Skin Problem Dataset/Test/Bopeng/000102.jpg  \n",
            "  inflating: Skin Problem Dataset/Test/Bopeng/000105.jpg  \n",
            "  inflating: Skin Problem Dataset/Test/Bopeng/000106.jpg  \n",
            "  inflating: Skin Problem Dataset/Test/Bopeng/000107.jpg  \n",
            "  inflating: Skin Problem Dataset/Test/Bopeng/000110.jpg  \n",
            "  inflating: Skin Problem Dataset/Test/Bopeng/000111.jpg  \n",
            "  inflating: Skin Problem Dataset/Test/Bopeng/000112.jpg  \n",
            "  inflating: Skin Problem Dataset/Test/Bopeng/000113.jpg  \n",
            "  inflating: Skin Problem Dataset/Test/Bopeng/000115.jpg  \n",
            "  inflating: Skin Problem Dataset/Test/Bopeng/000128.jpg  \n",
            "  inflating: Skin Problem Dataset/Test/Bopeng/000132.jpg  \n",
            "  inflating: Skin Problem Dataset/Test/Bopeng/000145.jpg  \n",
            "  inflating: Skin Problem Dataset/Test/Bopeng/000146.jpg  \n",
            "  inflating: Skin Problem Dataset/Test/Bopeng/000242.jpg  \n",
            "  inflating: Skin Problem Dataset/Test/Bopeng/000297.jpg  \n",
            "  inflating: Skin Problem Dataset/Test/Bopeng/000322.jpg  \n",
            "  inflating: Skin Problem Dataset/Test/Bopeng/000371.jpg  \n",
            "  inflating: Skin Problem Dataset/Test/Bopeng/000456.jpg  \n",
            "  inflating: Skin Problem Dataset/Test/Bopeng/000458.jpg  \n",
            "  inflating: Skin Problem Dataset/Test/Bopeng/000469.jpg  \n",
            "  inflating: Skin Problem Dataset/Test/Bopeng/000492.jpg  \n",
            "  inflating: Skin Problem Dataset/Test/Bopeng/000494.jpg  \n",
            "  inflating: Skin Problem Dataset/Test/Bopeng/18EA6261-67DC-44F4-B4A6-BD66E1E58C3C.jpg  \n",
            "  inflating: Skin Problem Dataset/Test/Bopeng/3DDAE9F0-C8EC-4761-95F7-DF7D4DAE7465.jpg  \n",
            "  inflating: Skin Problem Dataset/Test/Bopeng/422F3E53-25D2-4323-AFA1-28ED00A95ACF.jpg  \n",
            "  inflating: Skin Problem Dataset/Test/Bopeng/4DC7C0B9-0EB3-4C19-8DF7-AECF7478AD91.jpg  \n",
            "  inflating: Skin Problem Dataset/Test/Bruntusan/68.jpg  \n",
            "  inflating: Skin Problem Dataset/Test/Bruntusan/69.jpg  \n",
            "  inflating: Skin Problem Dataset/Test/Bruntusan/70.jpg  \n",
            "  inflating: Skin Problem Dataset/Test/Bruntusan/71.jpg  \n",
            "  inflating: Skin Problem Dataset/Test/Bruntusan/72.jpg  \n",
            "  inflating: Skin Problem Dataset/Test/Bruntusan/73.jpg  \n",
            "  inflating: Skin Problem Dataset/Test/Bruntusan/74.jpg  \n",
            "  inflating: Skin Problem Dataset/Test/Bruntusan/75.jpg  \n",
            "  inflating: Skin Problem Dataset/Test/Bruntusan/76.jpg  \n",
            "  inflating: Skin Problem Dataset/Test/Bruntusan/77.jpg  \n",
            "  inflating: Skin Problem Dataset/Test/Bruntusan/78.jpg  \n",
            "  inflating: Skin Problem Dataset/Test/Bruntusan/79.jpg  \n",
            "  inflating: Skin Problem Dataset/Test/Bruntusan/80.jpg  \n",
            "  inflating: Skin Problem Dataset/Test/Bruntusan/81.jpg  \n",
            "  inflating: Skin Problem Dataset/Test/Bruntusan/82.jpg  \n",
            "  inflating: Skin Problem Dataset/Test/Bruntusan/84.jpg  \n",
            "  inflating: Skin Problem Dataset/Test/Bruntusan/85.jpg  \n",
            "  inflating: Skin Problem Dataset/Test/Bruntusan/86.jpg  \n",
            "  inflating: Skin Problem Dataset/Test/Bruntusan/87.jpg  \n",
            "  inflating: Skin Problem Dataset/Test/Bruntusan/88.jpg  \n",
            "  inflating: Skin Problem Dataset/Test/Bruntusan/89.jpg  \n",
            "  inflating: Skin Problem Dataset/Test/Bruntusan/90.jpg  \n",
            "  inflating: Skin Problem Dataset/Test/Bruntusan/91.jpg  \n",
            "  inflating: Skin Problem Dataset/Test/Bruntusan/92.jpg  \n",
            "  inflating: Skin Problem Dataset/Test/Bruntusan/94.jpg  \n",
            "  inflating: Skin Problem Dataset/Test/Bruntusan/95.jpg  \n",
            "  inflating: Skin Problem Dataset/Test/Bruntusan/96.jpg  \n",
            "  inflating: Skin Problem Dataset/Test/Bruntusan/97.jpg  \n",
            "  inflating: Skin Problem Dataset/Test/Bruntusan/98.jpg  \n",
            "  inflating: Skin Problem Dataset/Test/Bruntusan/FwOvZy8aYAAapJK.jpg  \n",
            "  inflating: Skin Problem Dataset/Test/Bruntusan/FwfaIxeakAAtJr4.jpg  \n",
            "  inflating: Skin Problem Dataset/Test/Bruntusan/Fwi7dgTaUAA248e.jpg  \n",
            "  inflating: Skin Problem Dataset/Test/Bruntusan/Fwk8zlDakAMYPPl.jpg  \n",
            "  inflating: Skin Problem Dataset/Test/Bruntusan/Fwo_DVBaMAEEf-N.jpg  \n",
            "  inflating: Skin Problem Dataset/Test/Bruntusan/OIP (1).jpg  \n",
            "  inflating: Skin Problem Dataset/Test/Bruntusan/OIP (10).jpg  \n",
            "  inflating: Skin Problem Dataset/Test/Bruntusan/OIP (11).jpg  \n",
            "  inflating: Skin Problem Dataset/Test/Bruntusan/OIP (12).jpg  \n",
            "  inflating: Skin Problem Dataset/Test/Bruntusan/OIP (13).jpg  \n",
            "  inflating: Skin Problem Dataset/Test/Bruntusan/OIP (14).jpg  \n",
            "  inflating: Skin Problem Dataset/Test/Bruntusan/OIP (15).jpg  \n",
            "  inflating: Skin Problem Dataset/Test/Bruntusan/OIP (16).jpg  \n",
            "  inflating: Skin Problem Dataset/Test/Bruntusan/OIP (18).jpg  \n",
            "  inflating: Skin Problem Dataset/Test/Bruntusan/OIP (19).jpg  \n",
            "  inflating: Skin Problem Dataset/Test/Bruntusan/OIP (20).jpg  \n",
            "  inflating: Skin Problem Dataset/Test/Bruntusan/OIP (21).jpg  \n",
            "  inflating: Skin Problem Dataset/Test/Bruntusan/OIP (22).jpg  \n",
            "  inflating: Skin Problem Dataset/Test/Bruntusan/OIP (23).jpg  \n",
            "  inflating: Skin Problem Dataset/Test/Bruntusan/OIP (25).jpg  \n",
            "  inflating: Skin Problem Dataset/Test/Bruntusan/OIP (26).jpg  \n",
            "  inflating: Skin Problem Dataset/Test/Bruntusan/OIP (27).jpg  \n",
            "  inflating: Skin Problem Dataset/Test/Bruntusan/OIP (28).jpg  \n",
            "  inflating: Skin Problem Dataset/Test/Bruntusan/OIP (29).jpg  \n",
            "  inflating: Skin Problem Dataset/Test/Bruntusan/OIP (3).jpg  \n",
            "  inflating: Skin Problem Dataset/Test/Bruntusan/OIP (30).jpg  \n",
            "  inflating: Skin Problem Dataset/Test/Bruntusan/OIP (31).jpg  \n",
            "  inflating: Skin Problem Dataset/Test/Bruntusan/OIP (32).jpg  \n",
            "  inflating: Skin Problem Dataset/Test/Bruntusan/OIP (35).jpg  \n",
            "  inflating: Skin Problem Dataset/Test/Bruntusan/OIP (36).jpg  \n",
            "  inflating: Skin Problem Dataset/Test/Bruntusan/OIP (37).jpg  \n",
            "  inflating: Skin Problem Dataset/Test/Bruntusan/OIP (38).jpg  \n",
            "  inflating: Skin Problem Dataset/Test/Bruntusan/OIP (4).jpg  \n",
            "  inflating: Skin Problem Dataset/Test/Bruntusan/OIP (40).jpg  \n",
            "  inflating: Skin Problem Dataset/Test/Bruntusan/OIP (41).jpg  \n",
            "  inflating: Skin Problem Dataset/Test/Bruntusan/OIP (42).jpg  \n",
            "  inflating: Skin Problem Dataset/Test/Bruntusan/OIP (43).jpg  \n",
            "  inflating: Skin Problem Dataset/Test/Bruntusan/OIP (44).jpg  \n",
            "  inflating: Skin Problem Dataset/Test/Bruntusan/OIP (45).jpg  \n",
            "  inflating: Skin Problem Dataset/Test/Bruntusan/OIP (6).jpg  \n",
            "  inflating: Skin Problem Dataset/Test/Bruntusan/OIP (7).jpg  \n",
            "  inflating: Skin Problem Dataset/Test/Bruntusan/OIP (8).jpg  \n",
            "  inflating: Skin Problem Dataset/Test/Bruntusan/OIP.jpg  \n",
            "  inflating: Skin Problem Dataset/Test/Bruntusan/fffff (13).jpg  \n",
            "  inflating: Skin Problem Dataset/Test/Bruntusan/fffff (14).jpg  \n",
            "  inflating: Skin Problem Dataset/Test/Bruntusan/fffff (16).jpg  \n",
            "  inflating: Skin Problem Dataset/Test/Bruntusan/images (23).jpg  \n",
            "  inflating: Skin Problem Dataset/Test/Bruntusan/images (24).jpg  \n",
            "  inflating: Skin Problem Dataset/Test/Bruntusan/images (29).jpg  \n",
            "  inflating: Skin Problem Dataset/Test/Bruntusan/photo_2019-10-25_10-01-17 (2).jpg  \n",
            "  inflating: Skin Problem Dataset/Test/Milia/Milia_1.jpg  \n",
            "  inflating: Skin Problem Dataset/Test/Milia/Milia_10.jpg  \n",
            "  inflating: Skin Problem Dataset/Test/Milia/Milia_12.jpg  \n",
            "  inflating: Skin Problem Dataset/Test/Milia/Milia_13.jpg  \n",
            "  inflating: Skin Problem Dataset/Test/Milia/Milia_14.jpg  \n",
            "  inflating: Skin Problem Dataset/Test/Milia/Milia_15.jpg  \n",
            "  inflating: Skin Problem Dataset/Test/Milia/Milia_16.jpg  \n",
            "  inflating: Skin Problem Dataset/Test/Milia/Milia_17.jpg  \n",
            "  inflating: Skin Problem Dataset/Test/Milia/Milia_18.jpg  \n",
            "  inflating: Skin Problem Dataset/Test/Milia/Milia_19.jpg  \n",
            "  inflating: Skin Problem Dataset/Test/Milia/Milia_2.jpg  \n",
            "  inflating: Skin Problem Dataset/Test/Milia/Milia_20.jpg  \n",
            "  inflating: Skin Problem Dataset/Test/Milia/Milia_21.jpg  \n",
            "  inflating: Skin Problem Dataset/Test/Milia/Milia_22.jpg  \n",
            "  inflating: Skin Problem Dataset/Test/Milia/Milia_23.jpg  \n",
            "  inflating: Skin Problem Dataset/Test/Milia/Milia_24.jpg  \n",
            "  inflating: Skin Problem Dataset/Test/Milia/Milia_25.jpg  \n",
            "  inflating: Skin Problem Dataset/Test/Milia/Milia_26.jpg  \n",
            "  inflating: Skin Problem Dataset/Test/Milia/Milia_27.jpg  \n",
            "  inflating: Skin Problem Dataset/Test/Milia/Milia_28.jpg  \n",
            "  inflating: Skin Problem Dataset/Test/Milia/Milia_3.jpg  \n",
            "  inflating: Skin Problem Dataset/Test/Milia/Milia_30.jpg  \n",
            "  inflating: Skin Problem Dataset/Test/Milia/Milia_31.jpg  \n",
            "  inflating: Skin Problem Dataset/Test/Milia/Milia_34.jpg  \n",
            "  inflating: Skin Problem Dataset/Test/Milia/Milia_35.jpg  \n",
            "  inflating: Skin Problem Dataset/Test/Milia/Milia_36.jpg  \n",
            "  inflating: Skin Problem Dataset/Test/Milia/Milia_38.jpg  \n",
            "  inflating: Skin Problem Dataset/Test/Milia/Milia_39.jpg  \n",
            "  inflating: Skin Problem Dataset/Test/Milia/Milia_42.jpg  \n",
            "  inflating: Skin Problem Dataset/Test/Milia/Milia_43.jpg  \n",
            "  inflating: Skin Problem Dataset/Test/Milia/Milia_45.jpg  \n",
            "  inflating: Skin Problem Dataset/Test/Milia/Milia_46.jpg  \n",
            "  inflating: Skin Problem Dataset/Test/Milia/Milia_47.jpg  \n",
            "  inflating: Skin Problem Dataset/Test/Milia/Milia_48.jpg  \n",
            "  inflating: Skin Problem Dataset/Test/Milia/Milia_5.jpg  \n",
            "  inflating: Skin Problem Dataset/Test/Milia/Milia_50.jpg  \n",
            "  inflating: Skin Problem Dataset/Test/Milia/Milia_51.jpg  \n",
            "  inflating: Skin Problem Dataset/Test/Milia/Milia_52.jpg  \n",
            "  inflating: Skin Problem Dataset/Test/Milia/Milia_53.jpg  \n",
            "  inflating: Skin Problem Dataset/Test/Milia/Milia_54.jpg  \n",
            "  inflating: Skin Problem Dataset/Test/Milia/Milia_55.jpg  \n",
            "  inflating: Skin Problem Dataset/Test/Milia/Milia_56.jpg  \n",
            "  inflating: Skin Problem Dataset/Test/Milia/Milia_58.jpg  \n",
            "  inflating: Skin Problem Dataset/Test/Milia/Milia_6.jpg  \n",
            "  inflating: Skin Problem Dataset/Test/Milia/Milia_60.jpg  \n",
            "  inflating: Skin Problem Dataset/Test/Milia/Milia_61.jpg  \n",
            "  inflating: Skin Problem Dataset/Test/Milia/Milia_62.jpg  \n",
            "  inflating: Skin Problem Dataset/Test/Milia/Milia_63.jpg  \n",
            "  inflating: Skin Problem Dataset/Test/Milia/Milia_64.jpg  \n",
            "  inflating: Skin Problem Dataset/Test/Milia/Milia_65.jpg  \n",
            "  inflating: Skin Problem Dataset/Test/Milia/Milia_66.jpg  \n",
            "  inflating: Skin Problem Dataset/Test/Milia/Milia_67.jpg  \n",
            "  inflating: Skin Problem Dataset/Test/Milia/Milia_68.jpg  \n",
            "  inflating: Skin Problem Dataset/Test/Milia/Milia_69.jpg  \n",
            "  inflating: Skin Problem Dataset/Test/Milia/Milia_7.jpg  \n",
            "  inflating: Skin Problem Dataset/Test/Milia/Milia_71.jpg  \n",
            "  inflating: Skin Problem Dataset/Test/Milia/Milia_72.jpg  \n",
            "  inflating: Skin Problem Dataset/Test/Milia/Milia_73.jpg  \n",
            "  inflating: Skin Problem Dataset/Test/Milia/Milia_74.jpg  \n",
            "  inflating: Skin Problem Dataset/Test/Milia/Milia_75.jpg  \n",
            "  inflating: Skin Problem Dataset/Test/Milia/Milia_77.jpg  \n",
            "  inflating: Skin Problem Dataset/Test/Milia/Milia_78.jpg  \n",
            "  inflating: Skin Problem Dataset/Test/Milia/Milia_79.jpg  \n",
            "  inflating: Skin Problem Dataset/Test/Milia/Milia_80.jpg  \n",
            "  inflating: Skin Problem Dataset/Test/Milia/Milia_81.jpg  \n",
            "  inflating: Skin Problem Dataset/Test/Milia/Milia_83.jpg  \n",
            "  inflating: Skin Problem Dataset/Test/Milia/Milia_84.jpg  \n",
            "  inflating: Skin Problem Dataset/Test/Milia/Milia_85.jpg  \n",
            "  inflating: Skin Problem Dataset/Test/Milia/Milia_86.jpg  \n",
            "  inflating: Skin Problem Dataset/Test/Milia/Milia_88.jpg  \n",
            "  inflating: Skin Problem Dataset/Test/Milia/Milia_89.jpg  \n",
            "  inflating: Skin Problem Dataset/Test/Milia/Milia_9.jpg  \n",
            "  inflating: Skin Problem Dataset/Test/Milia/Milia_90.jpg  \n",
            "  inflating: Skin Problem Dataset/Test/Milia/Milia_92.jpg  \n",
            "  inflating: Skin Problem Dataset/Test/Milia/Milia_94.jpg  \n",
            "  inflating: Skin Problem Dataset/Test/Milia/Milia_95.jpg  \n",
            "  inflating: Skin Problem Dataset/Test/Milia/Milia_96.jpg  \n",
            "  inflating: Skin Problem Dataset/Test/Milia/Milia_99.jpg  \n",
            "  inflating: Skin Problem Dataset/Test/Redness/1.jpg  \n",
            "  inflating: Skin Problem Dataset/Test/Redness/10-Cara-Menghilangkan-Kemerahan-di-Wajah-Yuk-Dicoba.jpg  \n",
            "  inflating: Skin Problem Dataset/Test/Redness/10.jpg  \n",
            "  inflating: Skin Problem Dataset/Test/Redness/11.jpg  \n",
            "  inflating: Skin Problem Dataset/Test/Redness/119283_kulit-kemerahan.jpg  \n",
            "  inflating: Skin Problem Dataset/Test/Redness/12.jpg  \n",
            "  inflating: Skin Problem Dataset/Test/Redness/13.jpg  \n",
            "  inflating: Skin Problem Dataset/Test/Redness/1331007806.jpg  \n",
            "  inflating: Skin Problem Dataset/Test/Redness/19.jpg  \n",
            "  inflating: Skin Problem Dataset/Test/Redness/2.jpg  \n",
            "  inflating: Skin Problem Dataset/Test/Redness/20.jpg  \n",
            "  inflating: Skin Problem Dataset/Test/Redness/20200818153925-1-penyebab-kulit-merah-003-andre-kurniawan.jpg  \n",
            "  inflating: Skin Problem Dataset/Test/Redness/22.jpg  \n",
            "  inflating: Skin Problem Dataset/Test/Redness/3.jpg  \n",
            "  inflating: Skin Problem Dataset/Test/Redness/5.jpg  \n",
            "  inflating: Skin Problem Dataset/Test/Redness/51.jpg  \n",
            "  inflating: Skin Problem Dataset/Test/Redness/7.jpg  \n",
            "  inflating: Skin Problem Dataset/Test/Redness/8c61c3a5-5ae3-49ab-afe5-5d32835c2e26_11.jpg  \n",
            "  inflating: Skin Problem Dataset/Test/Redness/images (1).jpg  \n",
            "  inflating: Skin Problem Dataset/Test/Redness/images (2).jpg  \n",
            "  inflating: Skin Problem Dataset/Test/Redness/images.jpg  \n",
            "  inflating: Skin Problem Dataset/Test/Redness/redness 1.jpg  \n",
            "  inflating: Skin Problem Dataset/Test/Redness/redness 10.jpg  \n",
            "  inflating: Skin Problem Dataset/Test/Redness/redness 11.jpg  \n",
            "  inflating: Skin Problem Dataset/Test/Redness/redness 13.jpg  \n",
            "  inflating: Skin Problem Dataset/Test/Redness/redness 14.jpg  \n",
            "  inflating: Skin Problem Dataset/Test/Redness/redness 15.jpg  \n",
            "  inflating: Skin Problem Dataset/Test/Redness/redness 16.jpg  \n",
            "  inflating: Skin Problem Dataset/Test/Redness/redness 17.jpg  \n",
            "  inflating: Skin Problem Dataset/Test/Redness/redness 18.jpg  \n",
            "  inflating: Skin Problem Dataset/Test/Redness/redness 19.jpg  \n",
            "  inflating: Skin Problem Dataset/Test/Redness/redness 2.jpg  \n",
            "  inflating: Skin Problem Dataset/Test/Redness/redness 20.jpg  \n",
            "  inflating: Skin Problem Dataset/Test/Redness/redness 24.jpg  \n",
            "  inflating: Skin Problem Dataset/Test/Redness/redness 26.jpg  \n",
            "  inflating: Skin Problem Dataset/Test/Redness/redness 3.jpg  \n",
            "  inflating: Skin Problem Dataset/Test/Redness/redness 4.jpg  \n",
            "  inflating: Skin Problem Dataset/Test/Redness/redness 5.jpg  \n",
            "  inflating: Skin Problem Dataset/Test/Redness/redness 6.jpg  \n",
            "  inflating: Skin Problem Dataset/Test/Redness/redness 7.jpg  \n",
            "  inflating: Skin Problem Dataset/Test/Redness/redness 8.jpg  \n",
            "  inflating: Skin Problem Dataset/Test/Redness/redness 9.jpg  \n",
            "  inflating: Skin Problem Dataset/Test/Redness/waspada-hidung-dagu-pipi-dan-dahi-kemerahan-tanda-idap-rosacea-halodoc.jpg  \n",
            "  inflating: Skin Problem Dataset/Train/Acne/Acne_100.jpg  \n",
            "  inflating: Skin Problem Dataset/Train/Acne/Acne_101.jpg  \n",
            "  inflating: Skin Problem Dataset/Train/Acne/Acne_103.jpg  \n",
            "  inflating: Skin Problem Dataset/Train/Acne/Acne_105.jpg  \n",
            "  inflating: Skin Problem Dataset/Train/Acne/Acne_106.jpg  \n",
            "  inflating: Skin Problem Dataset/Train/Acne/Acne_109.jpg  \n",
            "  inflating: Skin Problem Dataset/Train/Acne/Acne_11.jpg  \n",
            "  inflating: Skin Problem Dataset/Train/Acne/Acne_110.jpg  \n",
            "  inflating: Skin Problem Dataset/Train/Acne/Acne_112.jpg  \n",
            "  inflating: Skin Problem Dataset/Train/Acne/Acne_12.jpg  \n",
            "  inflating: Skin Problem Dataset/Train/Acne/Acne_13.jpg  \n",
            "  inflating: Skin Problem Dataset/Train/Acne/Acne_14.jpg  \n",
            "  inflating: Skin Problem Dataset/Train/Acne/Acne_15.jpg  \n",
            "  inflating: Skin Problem Dataset/Train/Acne/Acne_16.jpg  \n",
            "  inflating: Skin Problem Dataset/Train/Acne/Acne_17.jpg  \n",
            "  inflating: Skin Problem Dataset/Train/Acne/Acne_18.jpg  \n",
            "  inflating: Skin Problem Dataset/Train/Acne/Acne_19.jpg  \n",
            "  inflating: Skin Problem Dataset/Train/Acne/Acne_20.jpg  \n",
            "  inflating: Skin Problem Dataset/Train/Acne/Acne_21.jpg  \n",
            "  inflating: Skin Problem Dataset/Train/Acne/Acne_22.jpg  \n",
            "  inflating: Skin Problem Dataset/Train/Acne/Acne_23.jpg  \n",
            "  inflating: Skin Problem Dataset/Train/Acne/Acne_24.jpg  \n",
            "  inflating: Skin Problem Dataset/Train/Acne/Acne_25.jpg  \n",
            "  inflating: Skin Problem Dataset/Train/Acne/Acne_26.jpg  \n",
            "  inflating: Skin Problem Dataset/Train/Acne/Acne_27.jpg  \n",
            "  inflating: Skin Problem Dataset/Train/Acne/Acne_28.jpg  \n",
            "  inflating: Skin Problem Dataset/Train/Acne/Acne_29.jpg  \n",
            "  inflating: Skin Problem Dataset/Train/Acne/Acne_3.jpg  \n",
            "  inflating: Skin Problem Dataset/Train/Acne/Acne_31.jpg  \n",
            "  inflating: Skin Problem Dataset/Train/Acne/Acne_32.jpg  \n",
            "  inflating: Skin Problem Dataset/Train/Acne/Acne_33.jpg  \n",
            "  inflating: Skin Problem Dataset/Train/Acne/Acne_34.jpg  \n",
            "  inflating: Skin Problem Dataset/Train/Acne/Acne_35.jpg  \n",
            "  inflating: Skin Problem Dataset/Train/Acne/Acne_36.jpg  \n",
            "  inflating: Skin Problem Dataset/Train/Acne/Acne_37.jpg  \n",
            "  inflating: Skin Problem Dataset/Train/Acne/Acne_40.jpg  \n",
            "  inflating: Skin Problem Dataset/Train/Acne/Acne_41.jpg  \n",
            "  inflating: Skin Problem Dataset/Train/Acne/Acne_42.jpg  \n",
            "  inflating: Skin Problem Dataset/Train/Acne/Acne_43.jpg  \n",
            "  inflating: Skin Problem Dataset/Train/Acne/Acne_44.jpg  \n",
            "  inflating: Skin Problem Dataset/Train/Acne/Acne_45.jpg  \n",
            "  inflating: Skin Problem Dataset/Train/Acne/Acne_46.jpg  \n",
            "  inflating: Skin Problem Dataset/Train/Acne/Acne_47.jpg  \n",
            "  inflating: Skin Problem Dataset/Train/Acne/Acne_48.jpg  \n",
            "  inflating: Skin Problem Dataset/Train/Acne/Acne_49.jpg  \n",
            "  inflating: Skin Problem Dataset/Train/Acne/Acne_5.jpg  \n",
            "  inflating: Skin Problem Dataset/Train/Acne/Acne_50.jpg  \n",
            "  inflating: Skin Problem Dataset/Train/Acne/Acne_51.jpg  \n",
            "  inflating: Skin Problem Dataset/Train/Acne/Acne_52.jpg  \n",
            "  inflating: Skin Problem Dataset/Train/Acne/Acne_53.jpg  \n",
            "  inflating: Skin Problem Dataset/Train/Acne/Acne_54.jpg  \n",
            "  inflating: Skin Problem Dataset/Train/Acne/Acne_55.jpg  \n",
            "  inflating: Skin Problem Dataset/Train/Acne/Acne_56.jpg  \n",
            "  inflating: Skin Problem Dataset/Train/Acne/Acne_57.jpg  \n",
            "  inflating: Skin Problem Dataset/Train/Acne/Acne_58.jpg  \n",
            "  inflating: Skin Problem Dataset/Train/Acne/Acne_59.jpg  \n",
            "  inflating: Skin Problem Dataset/Train/Acne/Acne_6.jpg  \n",
            "  inflating: Skin Problem Dataset/Train/Acne/Acne_60.jpg  \n",
            "  inflating: Skin Problem Dataset/Train/Acne/Acne_63.jpg  \n",
            "  inflating: Skin Problem Dataset/Train/Acne/Acne_64.jpg  \n",
            "  inflating: Skin Problem Dataset/Train/Acne/Acne_65.jpg  \n",
            "  inflating: Skin Problem Dataset/Train/Acne/Acne_66.jpg  \n",
            "  inflating: Skin Problem Dataset/Train/Acne/Acne_67.jpg  \n",
            "  inflating: Skin Problem Dataset/Train/Acne/Acne_68.jpg  \n",
            "  inflating: Skin Problem Dataset/Train/Acne/Acne_69.jpg  \n",
            "  inflating: Skin Problem Dataset/Train/Acne/Acne_70.jpg  \n",
            "  inflating: Skin Problem Dataset/Train/Acne/Acne_71.jpg  \n",
            "  inflating: Skin Problem Dataset/Train/Acne/Acne_72.jpg  \n",
            "  inflating: Skin Problem Dataset/Train/Acne/Acne_73.jpg  \n",
            "  inflating: Skin Problem Dataset/Train/Acne/Acne_74.jpg  \n",
            "  inflating: Skin Problem Dataset/Train/Acne/Acne_75.jpg  \n",
            "  inflating: Skin Problem Dataset/Train/Acne/Acne_76.jpg  \n",
            "  inflating: Skin Problem Dataset/Train/Acne/Acne_77.jpg  \n",
            "  inflating: Skin Problem Dataset/Train/Acne/Acne_78.jpg  \n",
            "  inflating: Skin Problem Dataset/Train/Acne/Acne_79.jpg  \n",
            "  inflating: Skin Problem Dataset/Train/Acne/Acne_8.jpg  \n",
            "  inflating: Skin Problem Dataset/Train/Acne/Acne_80.jpg  \n",
            "  inflating: Skin Problem Dataset/Train/Acne/Acne_81.jpg  \n",
            "  inflating: Skin Problem Dataset/Train/Acne/Acne_82.jpg  \n",
            "  inflating: Skin Problem Dataset/Train/Acne/Acne_83.jpg  \n",
            "  inflating: Skin Problem Dataset/Train/Acne/Acne_84.jpg  \n",
            "  inflating: Skin Problem Dataset/Train/Acne/Acne_85.jpg  \n",
            "  inflating: Skin Problem Dataset/Train/Acne/Acne_86.jpg  \n",
            "  inflating: Skin Problem Dataset/Train/Acne/Acne_87.jpg  \n",
            "  inflating: Skin Problem Dataset/Train/Acne/Acne_88.jpg  \n",
            "  inflating: Skin Problem Dataset/Train/Acne/Acne_89.jpg  \n",
            "  inflating: Skin Problem Dataset/Train/Acne/Acne_9.jpg  \n",
            "  inflating: Skin Problem Dataset/Train/Acne/Acne_90.jpg  \n",
            "  inflating: Skin Problem Dataset/Train/Acne/Acne_91.jpg  \n",
            "  inflating: Skin Problem Dataset/Train/Acne/Acne_93.jpg  \n",
            "  inflating: Skin Problem Dataset/Train/Acne/Acne_94.jpg  \n",
            "  inflating: Skin Problem Dataset/Train/Acne/Acne_95.jpg  \n",
            "  inflating: Skin Problem Dataset/Train/Acne/Acne_96.jpg  \n",
            "  inflating: Skin Problem Dataset/Train/Acne/Acne_97.jpg  \n",
            "  inflating: Skin Problem Dataset/Train/Acne/Acne_98.jpg  \n",
            "  inflating: Skin Problem Dataset/Train/Acne/Acne_99.jpg  \n",
            "  inflating: Skin Problem Dataset/Train/Bags/Blog_website_photos_1600x_ebf68ed7-bb10-49e8-a299-470c341b95da.jpg  \n",
            "  inflating: Skin Problem Dataset/Train/Bags/Picture10.jpg  \n",
            "  inflating: Skin Problem Dataset/Train/Bags/Picture11.jpg  \n",
            "  inflating: Skin Problem Dataset/Train/Bags/Picture12.jpg  \n",
            "  inflating: Skin Problem Dataset/Train/Bags/Picture13.jpg  \n",
            "  inflating: Skin Problem Dataset/Train/Bags/Picture14.jpg  \n",
            "  inflating: Skin Problem Dataset/Train/Bags/Picture15.jpg  \n",
            "  inflating: Skin Problem Dataset/Train/Bags/Picture16.jpg  \n",
            "  inflating: Skin Problem Dataset/Train/Bags/Picture17.jpg  \n",
            "  inflating: Skin Problem Dataset/Train/Bags/Picture18.jpg  \n",
            "  inflating: Skin Problem Dataset/Train/Bags/Picture19.jpg  \n",
            "  inflating: Skin Problem Dataset/Train/Bags/Picture2.jpg  \n",
            "  inflating: Skin Problem Dataset/Train/Bags/Picture20.jpg  \n",
            "  inflating: Skin Problem Dataset/Train/Bags/Picture21.jpg  \n",
            "  inflating: Skin Problem Dataset/Train/Bags/Picture22.jpg  \n",
            "  inflating: Skin Problem Dataset/Train/Bags/Picture23.jpg  \n",
            "  inflating: Skin Problem Dataset/Train/Bags/Picture24.jpg  \n",
            "  inflating: Skin Problem Dataset/Train/Bags/Picture25.jpg  \n",
            "  inflating: Skin Problem Dataset/Train/Bags/Picture26.jpg  \n",
            "  inflating: Skin Problem Dataset/Train/Bags/Picture27.jpg  \n",
            "  inflating: Skin Problem Dataset/Train/Bags/Picture28.jpg  \n",
            "  inflating: Skin Problem Dataset/Train/Bags/Picture29.jpg  \n",
            "  inflating: Skin Problem Dataset/Train/Bags/Picture3.jpg  \n",
            "  inflating: Skin Problem Dataset/Train/Bags/Picture30.jpg  \n",
            "  inflating: Skin Problem Dataset/Train/Bags/Picture31.jpg  \n",
            "  inflating: Skin Problem Dataset/Train/Bags/Picture32.jpg  \n",
            "  inflating: Skin Problem Dataset/Train/Bags/Picture33.jpg  \n",
            "  inflating: Skin Problem Dataset/Train/Bags/Picture34.jpg  \n",
            "  inflating: Skin Problem Dataset/Train/Bags/Picture35.jpg  \n",
            "  inflating: Skin Problem Dataset/Train/Bags/Picture36.jpg  \n",
            "  inflating: Skin Problem Dataset/Train/Bags/Picture37.jpg  \n",
            "  inflating: Skin Problem Dataset/Train/Bags/Picture38.jpg  \n",
            "  inflating: Skin Problem Dataset/Train/Bags/Picture39.jpg  \n",
            "  inflating: Skin Problem Dataset/Train/Bags/Picture4.jpg  \n",
            "  inflating: Skin Problem Dataset/Train/Bags/Picture40.jpg  \n",
            "  inflating: Skin Problem Dataset/Train/Bags/Picture41.jpg  \n",
            "  inflating: Skin Problem Dataset/Train/Bags/Picture42.jpg  \n",
            "  inflating: Skin Problem Dataset/Train/Bags/Picture43.jpg  \n",
            "  inflating: Skin Problem Dataset/Train/Bags/Picture44.jpg  \n",
            "  inflating: Skin Problem Dataset/Train/Bags/Picture5.jpg  \n",
            "  inflating: Skin Problem Dataset/Train/Bags/Picture6.jpg  \n",
            "  inflating: Skin Problem Dataset/Train/Bags/Picture7.jpg  \n",
            "  inflating: Skin Problem Dataset/Train/Bags/Picture8.jpg  \n",
            "  inflating: Skin Problem Dataset/Train/Bags/Picture9.jpg  \n",
            "  inflating: Skin Problem Dataset/Train/Bags/bags 1.jpg  \n",
            "  inflating: Skin Problem Dataset/Train/Bags/bags 2.jpg  \n",
            "  inflating: Skin Problem Dataset/Train/Bags/bags 3.jpg  \n",
            "  inflating: Skin Problem Dataset/Train/Bags/bags 4.jpg  \n",
            "  inflating: Skin Problem Dataset/Train/Bags/bags 5.jpg  \n",
            "  inflating: Skin Problem Dataset/Train/Bags/download (1).jpg  \n",
            "  inflating: Skin Problem Dataset/Train/Bags/download (2).jpg  \n",
            "  inflating: Skin Problem Dataset/Train/Bags/download (3).jpg  \n",
            "  inflating: Skin Problem Dataset/Train/Bags/download (5).jpg  \n",
            "  inflating: Skin Problem Dataset/Train/Bags/download (6).jpg  \n",
            "  inflating: Skin Problem Dataset/Train/Bags/download (7).jpg  \n",
            "  inflating: Skin Problem Dataset/Train/Bags/download (8).jpg  \n",
            "  inflating: Skin Problem Dataset/Train/Bags/download (9).jpg  \n",
            "  inflating: Skin Problem Dataset/Train/Bags/images (1).jpg  \n",
            "  inflating: Skin Problem Dataset/Train/Bags/images (2).jpg  \n",
            "  inflating: Skin Problem Dataset/Train/Bags/images (3).jpg  \n",
            "  inflating: Skin Problem Dataset/Train/Bags/images (4).jpg  \n",
            "  inflating: Skin Problem Dataset/Train/Bags/images (5).jpg  \n",
            "  inflating: Skin Problem Dataset/Train/Bags/images (7).jpg  \n",
            "  inflating: Skin Problem Dataset/Train/Bags/images (8).jpg  \n",
            "  inflating: Skin Problem Dataset/Train/Bags/images.jpg  \n",
            "  inflating: Skin Problem Dataset/Train/Bopeng/000001.jpg  \n",
            "  inflating: Skin Problem Dataset/Train/Bopeng/000002.jpg  \n",
            "  inflating: Skin Problem Dataset/Train/Bopeng/000003.jpg  \n",
            "  inflating: Skin Problem Dataset/Train/Bopeng/000004.jpg  \n",
            "  inflating: Skin Problem Dataset/Train/Bopeng/000005.jpg  \n",
            "  inflating: Skin Problem Dataset/Train/Bopeng/000006.jpg  \n",
            "  inflating: Skin Problem Dataset/Train/Bopeng/000007.jpg  \n",
            "  inflating: Skin Problem Dataset/Train/Bopeng/000008.jpg  \n",
            "  inflating: Skin Problem Dataset/Train/Bopeng/000010.jpg  \n",
            "  inflating: Skin Problem Dataset/Train/Bopeng/000011.jpg  \n",
            "  inflating: Skin Problem Dataset/Train/Bopeng/000012.jpg  \n",
            "  inflating: Skin Problem Dataset/Train/Bopeng/000014.jpg  \n",
            "  inflating: Skin Problem Dataset/Train/Bopeng/000015.jpg  \n",
            "  inflating: Skin Problem Dataset/Train/Bopeng/000017.jpg  \n",
            "  inflating: Skin Problem Dataset/Train/Bopeng/000018.jpg  \n",
            "  inflating: Skin Problem Dataset/Train/Bopeng/000019.jpg  \n",
            "  inflating: Skin Problem Dataset/Train/Bopeng/000020.jpg  \n",
            "  inflating: Skin Problem Dataset/Train/Bopeng/000021.jpg  \n",
            "  inflating: Skin Problem Dataset/Train/Bopeng/000022.jpg  \n",
            "  inflating: Skin Problem Dataset/Train/Bopeng/000023.jpg  \n",
            "  inflating: Skin Problem Dataset/Train/Bopeng/000024.jpg  \n",
            "  inflating: Skin Problem Dataset/Train/Bopeng/000025.jpg  \n",
            "  inflating: Skin Problem Dataset/Train/Bopeng/000026.jpg  \n",
            "  inflating: Skin Problem Dataset/Train/Bopeng/000027.jpg  \n",
            "  inflating: Skin Problem Dataset/Train/Bopeng/000028.jpg  \n",
            "  inflating: Skin Problem Dataset/Train/Bopeng/000030.jpg  \n",
            "  inflating: Skin Problem Dataset/Train/Bopeng/000031.jpg  \n",
            "  inflating: Skin Problem Dataset/Train/Bopeng/000032.jpg  \n",
            "  inflating: Skin Problem Dataset/Train/Bopeng/000033.jpg  \n",
            "  inflating: Skin Problem Dataset/Train/Bopeng/000034.jpg  \n",
            "  inflating: Skin Problem Dataset/Train/Bopeng/000035.jpg  \n",
            "  inflating: Skin Problem Dataset/Train/Bopeng/000037.jpg  \n",
            "  inflating: Skin Problem Dataset/Train/Bopeng/000038.jpg  \n",
            "  inflating: Skin Problem Dataset/Train/Bopeng/000039.jpg  \n",
            "  inflating: Skin Problem Dataset/Train/Bopeng/000040.jpg  \n",
            "  inflating: Skin Problem Dataset/Train/Bopeng/000041.jpg  \n",
            "  inflating: Skin Problem Dataset/Train/Bopeng/000042.jpg  \n",
            "  inflating: Skin Problem Dataset/Train/Bopeng/000043.jpg  \n",
            "  inflating: Skin Problem Dataset/Train/Bopeng/000044.jpg  \n",
            "  inflating: Skin Problem Dataset/Train/Bopeng/000045.jpg  \n",
            "  inflating: Skin Problem Dataset/Train/Bopeng/000048.jpg  \n",
            "  inflating: Skin Problem Dataset/Train/Bopeng/000049.jpg  \n",
            "  inflating: Skin Problem Dataset/Train/Bopeng/000052.jpg  \n",
            "  inflating: Skin Problem Dataset/Train/Bopeng/000054.jpg  \n",
            "  inflating: Skin Problem Dataset/Train/Bopeng/000055.jpg  \n",
            "  inflating: Skin Problem Dataset/Train/Bopeng/000056.jpg  \n",
            "  inflating: Skin Problem Dataset/Train/Bopeng/000057.jpg  \n",
            "  inflating: Skin Problem Dataset/Train/Bopeng/000058.jpg  \n",
            "  inflating: Skin Problem Dataset/Train/Bopeng/000059.jpg  \n",
            "  inflating: Skin Problem Dataset/Train/Bopeng/000075.jpg  \n",
            "  inflating: Skin Problem Dataset/Train/Bopeng/000077.jpg  \n",
            "  inflating: Skin Problem Dataset/Train/Bopeng/000078.jpg  \n",
            "  inflating: Skin Problem Dataset/Train/Bopeng/000081.jpg  \n",
            "  inflating: Skin Problem Dataset/Train/Bopeng/000085.jpg  \n",
            "  inflating: Skin Problem Dataset/Train/Bopeng/000087.jpg  \n",
            "  inflating: Skin Problem Dataset/Train/Bopeng/000089.jpg  \n",
            "  inflating: Skin Problem Dataset/Train/Bopeng/000091.jpg  \n",
            "  inflating: Skin Problem Dataset/Train/Bopeng/000092.jpg  \n",
            "  inflating: Skin Problem Dataset/Train/Bopeng/000093.jpg  \n",
            "  inflating: Skin Problem Dataset/Train/Bopeng/000095.jpg  \n",
            "  inflating: Skin Problem Dataset/Train/Bopeng/000097.jpg  \n",
            "  inflating: Skin Problem Dataset/Train/Bopeng/000099.jpg  \n",
            "  inflating: Skin Problem Dataset/Train/Bopeng/000101.jpg  \n",
            "  inflating: Skin Problem Dataset/Train/Bopeng/000102.jpg  \n",
            "  inflating: Skin Problem Dataset/Train/Bopeng/000105.jpg  \n",
            "  inflating: Skin Problem Dataset/Train/Bopeng/000106.jpg  \n",
            "  inflating: Skin Problem Dataset/Train/Bopeng/000107.jpg  \n",
            "  inflating: Skin Problem Dataset/Train/Bopeng/000110.jpg  \n",
            "  inflating: Skin Problem Dataset/Train/Bopeng/000111.jpg  \n",
            "  inflating: Skin Problem Dataset/Train/Bopeng/000112.jpg  \n",
            "  inflating: Skin Problem Dataset/Train/Bopeng/000113.jpg  \n",
            "  inflating: Skin Problem Dataset/Train/Bopeng/000115.jpg  \n",
            "  inflating: Skin Problem Dataset/Train/Bopeng/000117.jpg  \n",
            "  inflating: Skin Problem Dataset/Train/Bopeng/000128.jpg  \n",
            "  inflating: Skin Problem Dataset/Train/Bopeng/000132.jpg  \n",
            "  inflating: Skin Problem Dataset/Train/Bopeng/000145.jpg  \n",
            "  inflating: Skin Problem Dataset/Train/Bopeng/000220.jpg  \n",
            "  inflating: Skin Problem Dataset/Train/Bopeng/000242.jpg  \n",
            "  inflating: Skin Problem Dataset/Train/Bopeng/000246.jpg  \n",
            "  inflating: Skin Problem Dataset/Train/Bopeng/000297.jpg  \n",
            "  inflating: Skin Problem Dataset/Train/Bopeng/000322.jpg  \n",
            "  inflating: Skin Problem Dataset/Train/Bopeng/000371.jpg  \n",
            "  inflating: Skin Problem Dataset/Train/Bopeng/000428.jpg  \n",
            "  inflating: Skin Problem Dataset/Train/Bopeng/000455.jpg  \n",
            "  inflating: Skin Problem Dataset/Train/Bopeng/000456.jpg  \n",
            "  inflating: Skin Problem Dataset/Train/Bopeng/000458.jpg  \n",
            "  inflating: Skin Problem Dataset/Train/Bopeng/000492.jpg  \n",
            "  inflating: Skin Problem Dataset/Train/Bopeng/18EA6261-67DC-44F4-B4A6-BD66E1E58C3C.jpg  \n",
            "  inflating: Skin Problem Dataset/Train/Bopeng/31D0F346-AD11-4B24-8ABF-354B617FD715.jpg  \n",
            "  inflating: Skin Problem Dataset/Train/Bopeng/3DDAE9F0-C8EC-4761-95F7-DF7D4DAE7465.jpg  \n",
            "  inflating: Skin Problem Dataset/Train/Bopeng/422F3E53-25D2-4323-AFA1-28ED00A95ACF.jpg  \n",
            "  inflating: Skin Problem Dataset/Train/Bopeng/4DC7C0B9-0EB3-4C19-8DF7-AECF7478AD91.jpg  \n",
            "  inflating: Skin Problem Dataset/Train/Bopeng/7D966BFC-BE3D-44F2-858E-508F75336D40.jpg  \n",
            "  inflating: Skin Problem Dataset/Train/Bopeng/7E5006BC-36DB-4141-BF2E-F2FD5B970C3D.jpg  \n",
            "  inflating: Skin Problem Dataset/Train/Bopeng/9ABAC35D-CFB3-411F-9E3E-62C26BF709C8.jpg  \n",
            "  inflating: Skin Problem Dataset/Train/Bruntusan/100.jpg  \n",
            "  inflating: Skin Problem Dataset/Train/Bruntusan/68.jpg  \n",
            "  inflating: Skin Problem Dataset/Train/Bruntusan/69.jpg  \n",
            "  inflating: Skin Problem Dataset/Train/Bruntusan/70.jpg  \n",
            "  inflating: Skin Problem Dataset/Train/Bruntusan/71.jpg  \n",
            "  inflating: Skin Problem Dataset/Train/Bruntusan/72.jpg  \n",
            "  inflating: Skin Problem Dataset/Train/Bruntusan/73.jpg  \n",
            "  inflating: Skin Problem Dataset/Train/Bruntusan/74.jpg  \n",
            "  inflating: Skin Problem Dataset/Train/Bruntusan/75.jpg  \n",
            "  inflating: Skin Problem Dataset/Train/Bruntusan/76.jpg  \n",
            "  inflating: Skin Problem Dataset/Train/Bruntusan/77.jpg  \n",
            "  inflating: Skin Problem Dataset/Train/Bruntusan/78.jpg  \n",
            "  inflating: Skin Problem Dataset/Train/Bruntusan/79.jpg  \n",
            "  inflating: Skin Problem Dataset/Train/Bruntusan/80.jpg  \n",
            "  inflating: Skin Problem Dataset/Train/Bruntusan/81.jpg  \n",
            "  inflating: Skin Problem Dataset/Train/Bruntusan/82.jpg  \n",
            "  inflating: Skin Problem Dataset/Train/Bruntusan/83.jpg  \n",
            "  inflating: Skin Problem Dataset/Train/Bruntusan/84.jpg  \n",
            "  inflating: Skin Problem Dataset/Train/Bruntusan/85.jpg  \n",
            "  inflating: Skin Problem Dataset/Train/Bruntusan/86.jpg  \n",
            "  inflating: Skin Problem Dataset/Train/Bruntusan/87.jpg  \n",
            "  inflating: Skin Problem Dataset/Train/Bruntusan/88.jpg  \n",
            "  inflating: Skin Problem Dataset/Train/Bruntusan/89.jpg  \n",
            "  inflating: Skin Problem Dataset/Train/Bruntusan/90.jpg  \n",
            "  inflating: Skin Problem Dataset/Train/Bruntusan/91.jpg  \n",
            "  inflating: Skin Problem Dataset/Train/Bruntusan/92.jpg  \n",
            "  inflating: Skin Problem Dataset/Train/Bruntusan/93.jpg  \n",
            "  inflating: Skin Problem Dataset/Train/Bruntusan/94.jpg  \n",
            "  inflating: Skin Problem Dataset/Train/Bruntusan/95.jpg  \n",
            "  inflating: Skin Problem Dataset/Train/Bruntusan/96.jpg  \n",
            "  inflating: Skin Problem Dataset/Train/Bruntusan/97.jpg  \n",
            "  inflating: Skin Problem Dataset/Train/Bruntusan/98.jpg  \n",
            "  inflating: Skin Problem Dataset/Train/Bruntusan/99.jpg  \n",
            "  inflating: Skin Problem Dataset/Train/Bruntusan/FwOvZy8aYAAapJK.jpg  \n",
            "  inflating: Skin Problem Dataset/Train/Bruntusan/Fwe43oJaEAA9wUN.jpg  \n",
            "  inflating: Skin Problem Dataset/Train/Bruntusan/FwfaIxeakAAtJr4.jpg  \n",
            "  inflating: Skin Problem Dataset/Train/Bruntusan/Fwi7dgTaUAA248e.jpg  \n",
            "  inflating: Skin Problem Dataset/Train/Bruntusan/Fwk8zlDakAMYPPl.jpg  \n",
            "  inflating: Skin Problem Dataset/Train/Bruntusan/Fwo_DVBaMAEEf-N.jpg  \n",
            "  inflating: Skin Problem Dataset/Train/Bruntusan/OIP (1).jpg  \n",
            "  inflating: Skin Problem Dataset/Train/Bruntusan/OIP (10).jpg  \n",
            "  inflating: Skin Problem Dataset/Train/Bruntusan/OIP (11).jpg  \n",
            "  inflating: Skin Problem Dataset/Train/Bruntusan/OIP (12).jpg  \n",
            "  inflating: Skin Problem Dataset/Train/Bruntusan/OIP (13).jpg  \n",
            "  inflating: Skin Problem Dataset/Train/Bruntusan/OIP (14).jpg  \n",
            "  inflating: Skin Problem Dataset/Train/Bruntusan/OIP (15).jpg  \n",
            "  inflating: Skin Problem Dataset/Train/Bruntusan/OIP (16).jpg  \n",
            "  inflating: Skin Problem Dataset/Train/Bruntusan/OIP (17).jpg  \n",
            "  inflating: Skin Problem Dataset/Train/Bruntusan/OIP (18).jpg  \n",
            "  inflating: Skin Problem Dataset/Train/Bruntusan/OIP (19).jpg  \n",
            "  inflating: Skin Problem Dataset/Train/Bruntusan/OIP (20).jpg  \n",
            "  inflating: Skin Problem Dataset/Train/Bruntusan/OIP (21).jpg  \n",
            "  inflating: Skin Problem Dataset/Train/Bruntusan/OIP (22).jpg  \n",
            "  inflating: Skin Problem Dataset/Train/Bruntusan/OIP (23).jpg  \n",
            "  inflating: Skin Problem Dataset/Train/Bruntusan/OIP (24).jpg  \n",
            "  inflating: Skin Problem Dataset/Train/Bruntusan/OIP (26).jpg  \n",
            "  inflating: Skin Problem Dataset/Train/Bruntusan/OIP (27).jpg  \n",
            "  inflating: Skin Problem Dataset/Train/Bruntusan/OIP (28).jpg  \n",
            "  inflating: Skin Problem Dataset/Train/Bruntusan/OIP (29).jpg  \n",
            "  inflating: Skin Problem Dataset/Train/Bruntusan/OIP (3).jpg  \n",
            "  inflating: Skin Problem Dataset/Train/Bruntusan/OIP (30).jpg  \n",
            "  inflating: Skin Problem Dataset/Train/Bruntusan/OIP (31).jpg  \n",
            "  inflating: Skin Problem Dataset/Train/Bruntusan/OIP (32).jpg  \n",
            "  inflating: Skin Problem Dataset/Train/Bruntusan/OIP (33).jpg  \n",
            "  inflating: Skin Problem Dataset/Train/Bruntusan/OIP (34).jpg  \n",
            "  inflating: Skin Problem Dataset/Train/Bruntusan/OIP (35).jpg  \n",
            "  inflating: Skin Problem Dataset/Train/Bruntusan/OIP (36).jpg  \n",
            "  inflating: Skin Problem Dataset/Train/Bruntusan/OIP (37).jpg  \n",
            "  inflating: Skin Problem Dataset/Train/Bruntusan/OIP (38).jpg  \n",
            "  inflating: Skin Problem Dataset/Train/Bruntusan/OIP (39).jpg  \n",
            "  inflating: Skin Problem Dataset/Train/Bruntusan/OIP (4).jpg  \n",
            "  inflating: Skin Problem Dataset/Train/Bruntusan/OIP (40).jpg  \n",
            "  inflating: Skin Problem Dataset/Train/Bruntusan/OIP (41).jpg  \n",
            "  inflating: Skin Problem Dataset/Train/Bruntusan/OIP (42).jpg  \n",
            "  inflating: Skin Problem Dataset/Train/Bruntusan/OIP (43).jpg  \n",
            "  inflating: Skin Problem Dataset/Train/Bruntusan/OIP (44).jpg  \n",
            "  inflating: Skin Problem Dataset/Train/Bruntusan/OIP (45).jpg  \n",
            "  inflating: Skin Problem Dataset/Train/Bruntusan/OIP (6).jpg  \n",
            "  inflating: Skin Problem Dataset/Train/Bruntusan/OIP (7).jpg  \n",
            "  inflating: Skin Problem Dataset/Train/Bruntusan/OIP (8).jpg  \n",
            "  inflating: Skin Problem Dataset/Train/Bruntusan/OIP.jpg  \n",
            "  inflating: Skin Problem Dataset/Train/Bruntusan/fffff (11).jpg  \n",
            "  inflating: Skin Problem Dataset/Train/Bruntusan/fffff (12).jpg  \n",
            "  inflating: Skin Problem Dataset/Train/Bruntusan/fffff (13).jpg  \n",
            "  inflating: Skin Problem Dataset/Train/Bruntusan/fffff (14).jpg  \n",
            "  inflating: Skin Problem Dataset/Train/Bruntusan/fffff (15).jpg  \n",
            "  inflating: Skin Problem Dataset/Train/Bruntusan/fffff (16).jpg  \n",
            "  inflating: Skin Problem Dataset/Train/Bruntusan/fffff (17).jpg  \n",
            "  inflating: Skin Problem Dataset/Train/Bruntusan/images (23).jpg  \n",
            "  inflating: Skin Problem Dataset/Train/Bruntusan/images (24).jpg  \n",
            "  inflating: Skin Problem Dataset/Train/Bruntusan/images (26).jpg  \n",
            "  inflating: Skin Problem Dataset/Train/Bruntusan/images (29).jpg  \n",
            "  inflating: Skin Problem Dataset/Train/Bruntusan/images (30).jpg  \n",
            "  inflating: Skin Problem Dataset/Train/Bruntusan/images (31).jpg  \n",
            "  inflating: Skin Problem Dataset/Train/Bruntusan/images (5).jpg  \n",
            "  inflating: Skin Problem Dataset/Train/Bruntusan/original (80).jpg  \n",
            "  inflating: Skin Problem Dataset/Train/Bruntusan/original - 2023-05-26T171728.200.jpg  \n",
            "  inflating: Skin Problem Dataset/Train/Bruntusan/original - 2023-05-26T181736.248.jpg  \n",
            "  inflating: Skin Problem Dataset/Train/Bruntusan/photo_2019-10-25_10-01-17 (2).jpg  \n",
            "  inflating: Skin Problem Dataset/Train/Milia/Milia_1.jpg  \n",
            "  inflating: Skin Problem Dataset/Train/Milia/Milia_10.jpg  \n",
            "  inflating: Skin Problem Dataset/Train/Milia/Milia_100.jpg  \n",
            "  inflating: Skin Problem Dataset/Train/Milia/Milia_11.jpg  \n",
            "  inflating: Skin Problem Dataset/Train/Milia/Milia_12.jpg  \n",
            "  inflating: Skin Problem Dataset/Train/Milia/Milia_13.jpg  \n",
            "  inflating: Skin Problem Dataset/Train/Milia/Milia_14.jpg  \n",
            "  inflating: Skin Problem Dataset/Train/Milia/Milia_16.jpg  \n",
            "  inflating: Skin Problem Dataset/Train/Milia/Milia_17.jpg  \n",
            "  inflating: Skin Problem Dataset/Train/Milia/Milia_18.jpg  \n",
            "  inflating: Skin Problem Dataset/Train/Milia/Milia_19.jpg  \n",
            "  inflating: Skin Problem Dataset/Train/Milia/Milia_2.jpg  \n",
            "  inflating: Skin Problem Dataset/Train/Milia/Milia_20.jpg  \n",
            "  inflating: Skin Problem Dataset/Train/Milia/Milia_21.jpg  \n",
            "  inflating: Skin Problem Dataset/Train/Milia/Milia_22.jpg  \n",
            "  inflating: Skin Problem Dataset/Train/Milia/Milia_23.jpg  \n",
            "  inflating: Skin Problem Dataset/Train/Milia/Milia_24.jpg  \n",
            "  inflating: Skin Problem Dataset/Train/Milia/Milia_25.jpg  \n",
            "  inflating: Skin Problem Dataset/Train/Milia/Milia_26.jpg  \n",
            "  inflating: Skin Problem Dataset/Train/Milia/Milia_27.jpg  \n",
            "  inflating: Skin Problem Dataset/Train/Milia/Milia_28.jpg  \n",
            "  inflating: Skin Problem Dataset/Train/Milia/Milia_29.jpg  \n",
            "  inflating: Skin Problem Dataset/Train/Milia/Milia_3.jpg  \n",
            "  inflating: Skin Problem Dataset/Train/Milia/Milia_30.jpg  \n",
            "  inflating: Skin Problem Dataset/Train/Milia/Milia_31.jpg  \n",
            "  inflating: Skin Problem Dataset/Train/Milia/Milia_32.jpg  \n",
            "  inflating: Skin Problem Dataset/Train/Milia/Milia_33.jpg  \n",
            "  inflating: Skin Problem Dataset/Train/Milia/Milia_34.jpg  \n",
            "  inflating: Skin Problem Dataset/Train/Milia/Milia_36.jpg  \n",
            "  inflating: Skin Problem Dataset/Train/Milia/Milia_37.jpg  \n",
            "  inflating: Skin Problem Dataset/Train/Milia/Milia_38.jpg  \n",
            "  inflating: Skin Problem Dataset/Train/Milia/Milia_39.jpg  \n",
            "  inflating: Skin Problem Dataset/Train/Milia/Milia_4.jpg  \n",
            "  inflating: Skin Problem Dataset/Train/Milia/Milia_40.jpg  \n",
            "  inflating: Skin Problem Dataset/Train/Milia/Milia_41.jpg  \n",
            "  inflating: Skin Problem Dataset/Train/Milia/Milia_42.jpg  \n",
            "  inflating: Skin Problem Dataset/Train/Milia/Milia_43.jpg  \n",
            "  inflating: Skin Problem Dataset/Train/Milia/Milia_44.jpg  \n",
            "  inflating: Skin Problem Dataset/Train/Milia/Milia_45.jpg  \n",
            "  inflating: Skin Problem Dataset/Train/Milia/Milia_46.jpg  \n",
            "  inflating: Skin Problem Dataset/Train/Milia/Milia_47.jpg  \n",
            "  inflating: Skin Problem Dataset/Train/Milia/Milia_48.jpg  \n",
            "  inflating: Skin Problem Dataset/Train/Milia/Milia_49.jpg  \n",
            "  inflating: Skin Problem Dataset/Train/Milia/Milia_5.jpg  \n",
            "  inflating: Skin Problem Dataset/Train/Milia/Milia_50.jpg  \n",
            "  inflating: Skin Problem Dataset/Train/Milia/Milia_51.jpg  \n",
            "  inflating: Skin Problem Dataset/Train/Milia/Milia_52.jpg  \n",
            "  inflating: Skin Problem Dataset/Train/Milia/Milia_53.jpg  \n",
            "  inflating: Skin Problem Dataset/Train/Milia/Milia_54.jpg  \n",
            "  inflating: Skin Problem Dataset/Train/Milia/Milia_55.jpg  \n",
            "  inflating: Skin Problem Dataset/Train/Milia/Milia_56.jpg  \n",
            "  inflating: Skin Problem Dataset/Train/Milia/Milia_57.jpg  \n",
            "  inflating: Skin Problem Dataset/Train/Milia/Milia_58.jpg  \n",
            "  inflating: Skin Problem Dataset/Train/Milia/Milia_59.jpg  \n",
            "  inflating: Skin Problem Dataset/Train/Milia/Milia_6.jpg  \n",
            "  inflating: Skin Problem Dataset/Train/Milia/Milia_60.jpg  \n",
            "  inflating: Skin Problem Dataset/Train/Milia/Milia_61.jpg  \n",
            "  inflating: Skin Problem Dataset/Train/Milia/Milia_62.jpg  \n",
            "  inflating: Skin Problem Dataset/Train/Milia/Milia_63.jpg  \n",
            "  inflating: Skin Problem Dataset/Train/Milia/Milia_64.jpg  \n",
            "  inflating: Skin Problem Dataset/Train/Milia/Milia_65.jpg  \n",
            "  inflating: Skin Problem Dataset/Train/Milia/Milia_66.jpg  \n",
            "  inflating: Skin Problem Dataset/Train/Milia/Milia_67.jpg  \n",
            "  inflating: Skin Problem Dataset/Train/Milia/Milia_68.jpg  \n",
            "  inflating: Skin Problem Dataset/Train/Milia/Milia_69.jpg  \n",
            "  inflating: Skin Problem Dataset/Train/Milia/Milia_7.jpg  \n",
            "  inflating: Skin Problem Dataset/Train/Milia/Milia_70.jpg  \n",
            "  inflating: Skin Problem Dataset/Train/Milia/Milia_71.jpg  \n",
            "  inflating: Skin Problem Dataset/Train/Milia/Milia_72.jpg  \n",
            "  inflating: Skin Problem Dataset/Train/Milia/Milia_73.jpg  \n",
            "  inflating: Skin Problem Dataset/Train/Milia/Milia_74.jpg  \n",
            "  inflating: Skin Problem Dataset/Train/Milia/Milia_75.jpg  \n",
            "  inflating: Skin Problem Dataset/Train/Milia/Milia_76.jpg  \n",
            "  inflating: Skin Problem Dataset/Train/Milia/Milia_77.jpg  \n",
            "  inflating: Skin Problem Dataset/Train/Milia/Milia_78.jpg  \n",
            "  inflating: Skin Problem Dataset/Train/Milia/Milia_79.jpg  \n",
            "  inflating: Skin Problem Dataset/Train/Milia/Milia_8.jpg  \n",
            "  inflating: Skin Problem Dataset/Train/Milia/Milia_80.jpg  \n",
            "  inflating: Skin Problem Dataset/Train/Milia/Milia_81.jpg  \n",
            "  inflating: Skin Problem Dataset/Train/Milia/Milia_82.jpg  \n",
            "  inflating: Skin Problem Dataset/Train/Milia/Milia_83.jpg  \n",
            "  inflating: Skin Problem Dataset/Train/Milia/Milia_84.jpg  \n",
            "  inflating: Skin Problem Dataset/Train/Milia/Milia_85.jpg  \n",
            "  inflating: Skin Problem Dataset/Train/Milia/Milia_86.jpg  \n",
            "  inflating: Skin Problem Dataset/Train/Milia/Milia_87.jpg  \n",
            "  inflating: Skin Problem Dataset/Train/Milia/Milia_88.jpg  \n",
            "  inflating: Skin Problem Dataset/Train/Milia/Milia_89.jpg  \n",
            "  inflating: Skin Problem Dataset/Train/Milia/Milia_9.jpg  \n",
            "  inflating: Skin Problem Dataset/Train/Milia/Milia_90.jpg  \n",
            "  inflating: Skin Problem Dataset/Train/Milia/Milia_91.jpg  \n",
            "  inflating: Skin Problem Dataset/Train/Milia/Milia_92.jpg  \n",
            "  inflating: Skin Problem Dataset/Train/Milia/Milia_93.jpg  \n",
            "  inflating: Skin Problem Dataset/Train/Milia/Milia_94.jpg  \n",
            "  inflating: Skin Problem Dataset/Train/Milia/Milia_95.jpg  \n",
            "  inflating: Skin Problem Dataset/Train/Milia/Milia_96.jpg  \n",
            "  inflating: Skin Problem Dataset/Train/Milia/Milia_97.jpg  \n",
            "  inflating: Skin Problem Dataset/Train/Milia/Milia_98.jpg  \n",
            "  inflating: Skin Problem Dataset/Train/Milia/Milia_99.jpg  \n",
            "  inflating: Skin Problem Dataset/Train/Redness/1-osmiaorganics-com-1deef7a8966a989f7d738e0aecc8f0bc.jpg  \n",
            "  inflating: Skin Problem Dataset/Train/Redness/1.jpg  \n",
            "  inflating: Skin Problem Dataset/Train/Redness/10-Cara-Menghilangkan-Kemerahan-di-Wajah-Yuk-Dicoba.jpg  \n",
            "  inflating: Skin Problem Dataset/Train/Redness/10.jpg  \n",
            "  inflating: Skin Problem Dataset/Train/Redness/11.jpg  \n",
            "  inflating: Skin Problem Dataset/Train/Redness/119283_kulit-kemerahan.jpg  \n",
            "  inflating: Skin Problem Dataset/Train/Redness/12.jpg  \n",
            "  inflating: Skin Problem Dataset/Train/Redness/13.jpg  \n",
            "  inflating: Skin Problem Dataset/Train/Redness/14.jpg  \n",
            "  inflating: Skin Problem Dataset/Train/Redness/15.jpg  \n",
            "  inflating: Skin Problem Dataset/Train/Redness/16.jpg  \n",
            "  inflating: Skin Problem Dataset/Train/Redness/17.jpg  \n",
            "  inflating: Skin Problem Dataset/Train/Redness/18.jpg  \n",
            "  inflating: Skin Problem Dataset/Train/Redness/19.jpg  \n",
            "  inflating: Skin Problem Dataset/Train/Redness/2.jpg  \n",
            "  inflating: Skin Problem Dataset/Train/Redness/21.jpg  \n",
            "  inflating: Skin Problem Dataset/Train/Redness/22.jpg  \n",
            "  inflating: Skin Problem Dataset/Train/Redness/3.jpg  \n",
            "  inflating: Skin Problem Dataset/Train/Redness/5.jpg  \n",
            "  inflating: Skin Problem Dataset/Train/Redness/50.jpg  \n",
            "  inflating: Skin Problem Dataset/Train/Redness/51.jpg  \n",
            "  inflating: Skin Problem Dataset/Train/Redness/6.jpg  \n",
            "  inflating: Skin Problem Dataset/Train/Redness/7.jpg  \n",
            "  inflating: Skin Problem Dataset/Train/Redness/8c61c3a5-5ae3-49ab-afe5-5d32835c2e26_11.jpg  \n",
            "  inflating: Skin Problem Dataset/Train/Redness/download.jpg  \n",
            "  inflating: Skin Problem Dataset/Train/Redness/images (1).jpg  \n",
            "  inflating: Skin Problem Dataset/Train/Redness/images (2).jpg  \n",
            "  inflating: Skin Problem Dataset/Train/Redness/images.jpg  \n",
            "  inflating: Skin Problem Dataset/Train/Redness/redness 10.jpg  \n",
            "  inflating: Skin Problem Dataset/Train/Redness/redness 11.jpg  \n",
            "  inflating: Skin Problem Dataset/Train/Redness/redness 12.jpg  \n",
            "  inflating: Skin Problem Dataset/Train/Redness/redness 13.jpg  \n",
            "  inflating: Skin Problem Dataset/Train/Redness/redness 14.jpg  \n",
            "  inflating: Skin Problem Dataset/Train/Redness/redness 15.jpg  \n",
            "  inflating: Skin Problem Dataset/Train/Redness/redness 16.jpg  \n",
            "  inflating: Skin Problem Dataset/Train/Redness/redness 17.jpg  \n",
            "  inflating: Skin Problem Dataset/Train/Redness/redness 18.jpg  \n",
            "  inflating: Skin Problem Dataset/Train/Redness/redness 19.jpg  \n",
            "  inflating: Skin Problem Dataset/Train/Redness/redness 2.jpg  \n",
            "  inflating: Skin Problem Dataset/Train/Redness/redness 20.jpg  \n",
            "  inflating: Skin Problem Dataset/Train/Redness/redness 21.jpg  \n",
            "  inflating: Skin Problem Dataset/Train/Redness/redness 22.jpg  \n",
            "  inflating: Skin Problem Dataset/Train/Redness/redness 23.jpg  \n",
            "  inflating: Skin Problem Dataset/Train/Redness/redness 24.jpg  \n",
            "  inflating: Skin Problem Dataset/Train/Redness/redness 26.jpg  \n",
            "  inflating: Skin Problem Dataset/Train/Redness/redness 3.jpg  \n",
            "  inflating: Skin Problem Dataset/Train/Redness/redness 4.jpg  \n",
            "  inflating: Skin Problem Dataset/Train/Redness/redness 5.jpg  \n",
            "  inflating: Skin Problem Dataset/Train/Redness/redness 6.jpg  \n",
            "  inflating: Skin Problem Dataset/Train/Redness/redness 7.jpg  \n",
            "  inflating: Skin Problem Dataset/Train/Redness/redness 8.jpg  \n",
            "  inflating: Skin Problem Dataset/Train/Redness/redness 9.jpg  \n",
            "  inflating: Skin Problem Dataset/Train/Redness/waspada-hidung-dagu-pipi-dan-dahi-kemerahan-tanda-idap-rosacea-halodoc.jpg  \n"
          ]
        }
      ],
      "source": [
        "!kaggle datasets download -d dwikrisda/skin-problem-dataset\n",
        "!unzip skin-problem-dataset.zip"
      ]
    },
    {
      "cell_type": "markdown",
      "metadata": {
        "id": "oJgksX5AnyPi"
      },
      "source": [
        "# Pre Processing Dataset"
      ]
    },
    {
      "cell_type": "markdown",
      "metadata": {
        "id": "r90TtLh10FPG"
      },
      "source": [
        "## Check The Dataset Folder"
      ]
    },
    {
      "cell_type": "code",
      "execution_count": null,
      "metadata": {
        "colab": {
          "base_uri": "https://localhost:8080/"
        },
        "id": "VjOb-9Dsztmd",
        "outputId": "bf719cd9-003c-4aca-a07f-1c38391d7fbf"
      },
      "outputs": [
        {
          "name": "stdout",
          "output_type": "stream",
          "text": [
            "Files in folder: ['Train', 'Test']\n"
          ]
        }
      ],
      "source": [
        "# Path folder di Google Drive\n",
        "folder_path = '/content/Skin Problem Dataset'\n",
        "\n",
        "# List semua file dalam folder\n",
        "file_names = os.listdir(folder_path)\n",
        "print(f\"Files in folder: {file_names}\")"
      ]
    },
    {
      "cell_type": "markdown",
      "metadata": {
        "id": "WXdVsG5lqt_w"
      },
      "source": [
        "## Count Total Images in Every Folder"
      ]
    },
    {
      "cell_type": "code",
      "execution_count": null,
      "metadata": {
        "colab": {
          "base_uri": "https://localhost:8080/"
        },
        "id": "eXnO7Fe2ttlS",
        "outputId": "13de180d-6576-4657-bdff-74500db7401a"
      },
      "outputs": [
        {
          "name": "stdout",
          "output_type": "stream",
          "text": [
            "Total images in 'train/Milia': 98\n",
            "Total images in 'test/Milia': 78\n",
            "Total images in 'train/Acne': 96\n",
            "Total images in 'test/Acne': 72\n",
            "Total images in 'train/Bags': 65\n",
            "Total images in 'test/Bags': 50\n",
            "Total images in 'train/Bruntusan': 99\n",
            "Total images in 'test/Bruntusan': 79\n",
            "Total images in 'train/Bopeng': 95\n",
            "Total images in 'test/Bopeng': 73\n",
            "Total images in 'train/Redness': 53\n",
            "Total images in 'test/Redness': 43\n"
          ]
        }
      ],
      "source": [
        "# Define train and test folder\n",
        "train_folder = '/content/Skin Problem Dataset/Train'\n",
        "test_folder = '/content/Skin Problem Dataset/Test'\n",
        "\n",
        "def count_images_in_folder(folder_path):\n",
        "    total_images = 0\n",
        "    for root, dirs, files in os.walk(folder_path):\n",
        "        for file in files:\n",
        "            if file.lower().endswith(('.jpg', '.jpeg', '.png', '.webp')):\n",
        "                total_images += 1\n",
        "    return total_images\n",
        "\n",
        "def count_images_in_train_test(train_folder, test_folder):\n",
        "    # Check the subfolder in the dataset\n",
        "    subfolders = [f.name for f in os.scandir(train_folder) if f.is_dir()]\n",
        "\n",
        "    for subfolder in subfolders:\n",
        "        train_subfolder_path = os.path.join(train_folder, subfolder)\n",
        "        test_subfolder_path = os.path.join(test_folder, subfolder)\n",
        "\n",
        "        # Count the images in train and test\n",
        "        train_images = count_images_in_folder(train_subfolder_path)\n",
        "        test_images = count_images_in_folder(test_subfolder_path)\n",
        "\n",
        "        print(f\"Total images in 'train/{subfolder}': {train_images}\")\n",
        "        print(f\"Total images in 'test/{subfolder}': {test_images}\")\n",
        "\n",
        "count_images_in_train_test(train_folder, test_folder)"
      ]
    },
    {
      "cell_type": "markdown",
      "metadata": {
        "id": "QnfCunAEq8CF"
      },
      "source": [
        "## Generate Train dan Validation Dataset"
      ]
    },
    {
      "cell_type": "code",
      "execution_count": null,
      "metadata": {
        "colab": {
          "base_uri": "https://localhost:8080/"
        },
        "id": "j_whu6tfUUFM",
        "outputId": "49ac412f-2cf2-4d12-cb02-7613deb247d5"
      },
      "outputs": [
        {
          "name": "stdout",
          "output_type": "stream",
          "text": [
            "Found 506 files belonging to 6 classes.\n",
            "Found 395 files belonging to 6 classes.\n"
          ]
        }
      ],
      "source": [
        "# Define the train and test directory\n",
        "train_dir = '/content/Skin Problem Dataset/Train'\n",
        "val_dir = '/content/Skin Problem Dataset/Test'\n",
        "\n",
        "# Train data generator\n",
        "train_generator = tf.keras.utils.image_dataset_from_directory(\n",
        "    train_dir,\n",
        "    image_size=(256, 256),\n",
        "    batch_size=32,\n",
        "    label_mode='categorical',\n",
        "    color_mode=\"rgb\",\n",
        ")\n",
        "\n",
        "# Validation data generator\n",
        "val_generator = tf.keras.utils.image_dataset_from_directory(\n",
        "    val_dir,\n",
        "    image_size=(256, 256),\n",
        "    batch_size=32,\n",
        "    label_mode='categorical',\n",
        "    color_mode=\"rgb\",\n",
        ")\n",
        "\n",
        "SHUFFLE_BUFFER_SIZE = 1000\n",
        "PREFETCH_BUFFER_SIZE = tf.data.AUTOTUNE\n",
        "\n",
        "train_dataset_final = (train_generator\n",
        "                       .cache()\n",
        "                       .shuffle(SHUFFLE_BUFFER_SIZE)\n",
        "                       .prefetch(PREFETCH_BUFFER_SIZE)\n",
        "                       )\n",
        "\n",
        "validation_dataset_final = (val_generator\n",
        "                            .cache()\n",
        "                            .prefetch(PREFETCH_BUFFER_SIZE)\n",
        "                            )"
      ]
    },
    {
      "cell_type": "markdown",
      "metadata": {
        "id": "aQBtr_GKt93_"
      },
      "source": [
        "# Modelling"
      ]
    },
    {
      "cell_type": "markdown",
      "metadata": {
        "id": "nKHcyQfVuDKs"
      },
      "source": [
        "## Create Model Layers"
      ]
    },
    {
      "cell_type": "code",
      "execution_count": null,
      "metadata": {
        "id": "TFL_9l_Jttlk"
      },
      "outputs": [],
      "source": [
        "def create_model():\n",
        "    \"\"\"Create the classifier model\n",
        "\n",
        "    Returns:\n",
        "        tf.keras.model.Sequential: CNN for multi-class classification\n",
        "    \"\"\"\n",
        "    # Define the model\n",
        "    model = tf.keras.models.Sequential([\n",
        "        # Define an input layer\n",
        "        tf.keras.layers.InputLayer(input_shape=(256, 256, 3)),\n",
        "        # Rescale images\n",
        "        tf.keras.layers.Rescaling(1./255),\n",
        "        # First Conv2D layer with MaxPooling\n",
        "        tf.keras.layers.Conv2D(32, (3, 3), activation='relu'),\n",
        "        tf.keras.layers.MaxPooling2D((2, 2)),\n",
        "\n",
        "        # Second Conv2D layer with MaxPooling\n",
        "        tf.keras.layers.Conv2D(64, (3, 3), activation='relu'),\n",
        "        tf.keras.layers.MaxPooling2D((2, 2)),\n",
        "\n",
        "        # Second Conv2D layer with MaxPooling\n",
        "        tf.keras.layers.Conv2D(128, (3, 3), activation='relu'),\n",
        "        #tf.keras.layers.BatchNormalization(),\n",
        "        tf.keras.layers.MaxPooling2D((2, 2)),\n",
        "\n",
        "        # Second Conv2D layer with MaxPooling\n",
        "        tf.keras.layers.Conv2D(128, (3, 3), activation='relu'),\n",
        "        tf.keras.layers.MaxPooling2D((2, 2)),\n",
        "\n",
        "        # Second Conv2D layer with MaxPooling\n",
        "        tf.keras.layers.Conv2D(256, (3, 3), activation='relu'),\n",
        "        tf.keras.layers.MaxPooling2D((2, 2)),\n",
        "\n",
        "        # Second Conv2D layer with MaxPooling\n",
        "        tf.keras.layers.Conv2D(512, (3, 3), activation='relu'),\n",
        "        tf.keras.layers.MaxPooling2D((2, 2)),\n",
        "\n",
        "        # Flatten the output and add dense layers\n",
        "        tf.keras.layers.Flatten(),\n",
        "        tf.keras.layers.Dense(512, activation='relu'),\n",
        "        tf.keras.layers.Dropout(0.5),\n",
        "        tf.keras.layers.Dense(1024, activation='relu'),\n",
        "\n",
        "        # Output layer with 6 units equal to the number of classes\n",
        "        tf.keras.layers.Dense(6, activation='softmax')  # Softmax for multi-class classification\n",
        "    ])\n",
        "\n",
        "    return model"
      ]
    },
    {
      "cell_type": "code",
      "execution_count": null,
      "metadata": {
        "id": "bgG-isKTxGS7"
      },
      "outputs": [],
      "source": [
        "# Create the model\n",
        "model= create_model()"
      ]
    },
    {
      "cell_type": "markdown",
      "metadata": {
        "id": "nMojPv9Euq5P"
      },
      "source": [
        "## Compile Model"
      ]
    },
    {
      "cell_type": "code",
      "execution_count": null,
      "metadata": {
        "id": "i9tNVcPXub94"
      },
      "outputs": [],
      "source": [
        "# Compile the model\n",
        "model.compile(optimizer = tf.keras.optimizers.Adam(learning_rate=0.0001),\n",
        "                  loss = 'categorical_crossentropy',\n",
        "                  metrics = [\"accuracy\"])"
      ]
    },
    {
      "cell_type": "markdown",
      "metadata": {
        "id": "ROZ53MWZwh8K"
      },
      "source": [
        "## Model Summary"
      ]
    },
    {
      "cell_type": "code",
      "execution_count": null,
      "metadata": {
        "colab": {
          "base_uri": "https://localhost:8080/"
        },
        "id": "9U0Rr2cVttln",
        "outputId": "38531f5a-8bfb-4084-cdfc-abe40242dfcf"
      },
      "outputs": [
        {
          "name": "stdout",
          "output_type": "stream",
          "text": [
            "Model: \"sequential\"\n",
            "_________________________________________________________________\n",
            " Layer (type)                Output Shape              Param #   \n",
            "=================================================================\n",
            " rescaling (Rescaling)       (None, 256, 256, 3)       0         \n",
            "                                                                 \n",
            " conv2d (Conv2D)             (None, 254, 254, 32)      896       \n",
            "                                                                 \n",
            " max_pooling2d (MaxPooling2  (None, 127, 127, 32)      0         \n",
            " D)                                                              \n",
            "                                                                 \n",
            " conv2d_1 (Conv2D)           (None, 125, 125, 64)      18496     \n",
            "                                                                 \n",
            " max_pooling2d_1 (MaxPoolin  (None, 62, 62, 64)        0         \n",
            " g2D)                                                            \n",
            "                                                                 \n",
            " conv2d_2 (Conv2D)           (None, 60, 60, 128)       73856     \n",
            "                                                                 \n",
            " max_pooling2d_2 (MaxPoolin  (None, 30, 30, 128)       0         \n",
            " g2D)                                                            \n",
            "                                                                 \n",
            " conv2d_3 (Conv2D)           (None, 28, 28, 128)       147584    \n",
            "                                                                 \n",
            " max_pooling2d_3 (MaxPoolin  (None, 14, 14, 128)       0         \n",
            " g2D)                                                            \n",
            "                                                                 \n",
            " conv2d_4 (Conv2D)           (None, 12, 12, 256)       295168    \n",
            "                                                                 \n",
            " max_pooling2d_4 (MaxPoolin  (None, 6, 6, 256)         0         \n",
            " g2D)                                                            \n",
            "                                                                 \n",
            " conv2d_5 (Conv2D)           (None, 4, 4, 512)         1180160   \n",
            "                                                                 \n",
            " max_pooling2d_5 (MaxPoolin  (None, 2, 2, 512)         0         \n",
            " g2D)                                                            \n",
            "                                                                 \n",
            " flatten (Flatten)           (None, 2048)              0         \n",
            "                                                                 \n",
            " dense (Dense)               (None, 512)               1049088   \n",
            "                                                                 \n",
            " dropout (Dropout)           (None, 512)               0         \n",
            "                                                                 \n",
            " dense_1 (Dense)             (None, 1024)              525312    \n",
            "                                                                 \n",
            " dense_2 (Dense)             (None, 6)                 6150      \n",
            "                                                                 \n",
            "=================================================================\n",
            "Total params: 3296710 (12.58 MB)\n",
            "Trainable params: 3296710 (12.58 MB)\n",
            "Non-trainable params: 0 (0.00 Byte)\n",
            "_________________________________________________________________\n"
          ]
        }
      ],
      "source": [
        "#Check the model summary\n",
        "model.summary()"
      ]
    },
    {
      "cell_type": "markdown",
      "metadata": {
        "id": "EZsJYKpQwq3g"
      },
      "source": [
        "## Model Evaluation"
      ]
    },
    {
      "cell_type": "code",
      "execution_count": null,
      "metadata": {
        "colab": {
          "base_uri": "https://localhost:8080/"
        },
        "id": "FZn8IBf7ttlm",
        "outputId": "a008977d-9a0e-450a-92ca-f6eddeb77cf5"
      },
      "outputs": [
        {
          "name": "stdout",
          "output_type": "stream",
          "text": [
            "Input shape: (None, 256, 256, 3)\n",
            "Output shape: (None, 6)\n"
          ]
        }
      ],
      "source": [
        "print(f'Input shape: {model.input_shape}')\n",
        "print(f'Output shape: {model.output_shape}')"
      ]
    },
    {
      "cell_type": "code",
      "execution_count": null,
      "metadata": {
        "colab": {
          "base_uri": "https://localhost:8080/"
        },
        "id": "aUtiOwFSttlq",
        "outputId": "798afc31-a763-4603-b968-bfd2ab4d726e"
      },
      "outputs": [
        {
          "name": "stdout",
          "output_type": "stream",
          "text": [
            "predictions have shape: (32, 6)\n"
          ]
        }
      ],
      "source": [
        "for images, labels in train_dataset_final.take(1):\n",
        "\texample_batch_images = images\n",
        "\texample_batch_labels = labels\n",
        "\n",
        "try:\n",
        "\tmodel.evaluate(example_batch_images, example_batch_labels, verbose=False)\n",
        "except:\n",
        "\tprint(\"Your model is not compatible with the dataset you defined earlier. Check that the loss function, last layer and label_mode are compatible with one another.\")\n",
        "else:\n",
        "\tpredictions = model.predict(example_batch_images, verbose=False)\n",
        "\tprint(f\"predictions have shape: {predictions.shape}\")"
      ]
    },
    {
      "cell_type": "markdown",
      "metadata": {
        "id": "X7rkzH9Rwx24"
      },
      "source": [
        "## Callbacks"
      ]
    },
    {
      "cell_type": "code",
      "execution_count": null,
      "metadata": {
        "id": "Y0HfL04XIZrR"
      },
      "outputs": [],
      "source": [
        "class EarlyStoppingCallback(tf.keras.callbacks.Callback):\n",
        "\n",
        "    # Define the correct function signature for on_epoch_end method\n",
        "    def on_epoch_end(self, epoch, logs=0):\n",
        "\n",
        "        # Check if the accuracy is greater or equal to 0.98\n",
        "        if logs['accuracy']>= 0.98:\n",
        "\n",
        "            # Stop training once the above condition is met\n",
        "            self.model.stop_training = True\n",
        "\n",
        "            print(\"\\nReached 98% accuracy so cancelling training!\")"
      ]
    },
    {
      "cell_type": "markdown",
      "metadata": {
        "id": "W9tITgqVw1tt"
      },
      "source": [
        "## Training Model"
      ]
    },
    {
      "cell_type": "code",
      "execution_count": null,
      "metadata": {
        "colab": {
          "base_uri": "https://localhost:8080/"
        },
        "id": "hF2JeohIttlr",
        "outputId": "4ae4442c-527d-4754-b81e-78c17776e2f3"
      },
      "outputs": [
        {
          "name": "stdout",
          "output_type": "stream",
          "text": [
            "Epoch 1/500\n",
            "16/16 [==============================] - 20s 531ms/step - loss: 1.7867 - accuracy: 0.1660 - val_loss: 1.7677 - val_accuracy: 0.2000\n",
            "Epoch 2/500\n",
            "16/16 [==============================] - 2s 118ms/step - loss: 1.7705 - accuracy: 0.2036 - val_loss: 1.7583 - val_accuracy: 0.2000\n",
            "Epoch 3/500\n",
            "16/16 [==============================] - 2s 103ms/step - loss: 1.7643 - accuracy: 0.2154 - val_loss: 1.7419 - val_accuracy: 0.2709\n",
            "Epoch 4/500\n",
            "16/16 [==============================] - 1s 89ms/step - loss: 1.7252 - accuracy: 0.2510 - val_loss: 1.6369 - val_accuracy: 0.3646\n",
            "Epoch 5/500\n",
            "16/16 [==============================] - 1s 81ms/step - loss: 1.5492 - accuracy: 0.3538 - val_loss: 1.4520 - val_accuracy: 0.3671\n",
            "Epoch 6/500\n",
            "16/16 [==============================] - 1s 80ms/step - loss: 1.4530 - accuracy: 0.3399 - val_loss: 1.4220 - val_accuracy: 0.3975\n",
            "Epoch 7/500\n",
            "16/16 [==============================] - 1s 80ms/step - loss: 1.4255 - accuracy: 0.3953 - val_loss: 1.4011 - val_accuracy: 0.3494\n",
            "Epoch 8/500\n",
            "16/16 [==============================] - 1s 80ms/step - loss: 1.4089 - accuracy: 0.3794 - val_loss: 1.3592 - val_accuracy: 0.3696\n",
            "Epoch 9/500\n",
            "16/16 [==============================] - 1s 85ms/step - loss: 1.3521 - accuracy: 0.4130 - val_loss: 1.2930 - val_accuracy: 0.5063\n",
            "Epoch 10/500\n",
            "16/16 [==============================] - 1s 85ms/step - loss: 1.3726 - accuracy: 0.3992 - val_loss: 1.3646 - val_accuracy: 0.4354\n",
            "Epoch 11/500\n",
            "16/16 [==============================] - 1s 81ms/step - loss: 1.3451 - accuracy: 0.4447 - val_loss: 1.2902 - val_accuracy: 0.4152\n",
            "Epoch 12/500\n",
            "16/16 [==============================] - 1s 81ms/step - loss: 1.3117 - accuracy: 0.4229 - val_loss: 1.2582 - val_accuracy: 0.5392\n",
            "Epoch 13/500\n",
            "16/16 [==============================] - 1s 81ms/step - loss: 1.2934 - accuracy: 0.4585 - val_loss: 1.2112 - val_accuracy: 0.5139\n",
            "Epoch 14/500\n",
            "16/16 [==============================] - 1s 81ms/step - loss: 1.2521 - accuracy: 0.5079 - val_loss: 1.1999 - val_accuracy: 0.5089\n",
            "Epoch 15/500\n",
            "16/16 [==============================] - 1s 83ms/step - loss: 1.3115 - accuracy: 0.4605 - val_loss: 1.2330 - val_accuracy: 0.4962\n",
            "Epoch 16/500\n",
            "16/16 [==============================] - 1s 81ms/step - loss: 1.2207 - accuracy: 0.5000 - val_loss: 1.1474 - val_accuracy: 0.5620\n",
            "Epoch 17/500\n",
            "16/16 [==============================] - 1s 82ms/step - loss: 1.1903 - accuracy: 0.5494 - val_loss: 1.0689 - val_accuracy: 0.6278\n",
            "Epoch 18/500\n",
            "16/16 [==============================] - 1s 86ms/step - loss: 1.1085 - accuracy: 0.5810 - val_loss: 1.0200 - val_accuracy: 0.6405\n",
            "Epoch 19/500\n",
            "16/16 [==============================] - 1s 81ms/step - loss: 1.0871 - accuracy: 0.5553 - val_loss: 0.9414 - val_accuracy: 0.6709\n",
            "Epoch 20/500\n",
            "16/16 [==============================] - 1s 82ms/step - loss: 1.0817 - accuracy: 0.5632 - val_loss: 0.9137 - val_accuracy: 0.6785\n",
            "Epoch 21/500\n",
            "16/16 [==============================] - 1s 81ms/step - loss: 1.0108 - accuracy: 0.6028 - val_loss: 0.8570 - val_accuracy: 0.6835\n",
            "Epoch 22/500\n",
            "16/16 [==============================] - 1s 81ms/step - loss: 0.9386 - accuracy: 0.6344 - val_loss: 0.8789 - val_accuracy: 0.6861\n",
            "Epoch 23/500\n",
            "16/16 [==============================] - 1s 82ms/step - loss: 0.9503 - accuracy: 0.6403 - val_loss: 0.8484 - val_accuracy: 0.6962\n",
            "Epoch 24/500\n",
            "16/16 [==============================] - 1s 82ms/step - loss: 0.8983 - accuracy: 0.6522 - val_loss: 0.7861 - val_accuracy: 0.7165\n",
            "Epoch 25/500\n",
            "16/16 [==============================] - 1s 82ms/step - loss: 0.8897 - accuracy: 0.6640 - val_loss: 0.8125 - val_accuracy: 0.7038\n",
            "Epoch 26/500\n",
            "16/16 [==============================] - 1s 87ms/step - loss: 0.8191 - accuracy: 0.6917 - val_loss: 0.7427 - val_accuracy: 0.7165\n",
            "Epoch 27/500\n",
            "16/16 [==============================] - 1s 83ms/step - loss: 0.8470 - accuracy: 0.7016 - val_loss: 0.7528 - val_accuracy: 0.7468\n",
            "Epoch 28/500\n",
            "16/16 [==============================] - 1s 82ms/step - loss: 0.8270 - accuracy: 0.6719 - val_loss: 0.6945 - val_accuracy: 0.7519\n",
            "Epoch 29/500\n",
            "16/16 [==============================] - 1s 82ms/step - loss: 0.7609 - accuracy: 0.7233 - val_loss: 0.7283 - val_accuracy: 0.7392\n",
            "Epoch 30/500\n",
            "16/16 [==============================] - 1s 82ms/step - loss: 0.7165 - accuracy: 0.7411 - val_loss: 0.6226 - val_accuracy: 0.7747\n",
            "Epoch 31/500\n",
            "16/16 [==============================] - 1s 83ms/step - loss: 0.7455 - accuracy: 0.7312 - val_loss: 0.5877 - val_accuracy: 0.7949\n",
            "Epoch 32/500\n",
            "16/16 [==============================] - 1s 82ms/step - loss: 0.6704 - accuracy: 0.7648 - val_loss: 0.6070 - val_accuracy: 0.7848\n",
            "Epoch 33/500\n",
            "16/16 [==============================] - 1s 86ms/step - loss: 0.6082 - accuracy: 0.7846 - val_loss: 0.5370 - val_accuracy: 0.8177\n",
            "Epoch 34/500\n",
            "16/16 [==============================] - 1s 83ms/step - loss: 0.6104 - accuracy: 0.7806 - val_loss: 0.6610 - val_accuracy: 0.7392\n",
            "Epoch 35/500\n",
            "16/16 [==============================] - 1s 82ms/step - loss: 0.6175 - accuracy: 0.7747 - val_loss: 0.5387 - val_accuracy: 0.8304\n",
            "Epoch 36/500\n",
            "16/16 [==============================] - 1s 82ms/step - loss: 0.5573 - accuracy: 0.7964 - val_loss: 0.4496 - val_accuracy: 0.8532\n",
            "Epoch 37/500\n",
            "16/16 [==============================] - 1s 82ms/step - loss: 0.5598 - accuracy: 0.8043 - val_loss: 0.5075 - val_accuracy: 0.8127\n",
            "Epoch 38/500\n",
            "16/16 [==============================] - 1s 83ms/step - loss: 0.5337 - accuracy: 0.8340 - val_loss: 0.4439 - val_accuracy: 0.8405\n",
            "Epoch 39/500\n",
            "16/16 [==============================] - 1s 82ms/step - loss: 0.5165 - accuracy: 0.8300 - val_loss: 0.4527 - val_accuracy: 0.8481\n",
            "Epoch 40/500\n",
            "16/16 [==============================] - 1s 86ms/step - loss: 0.4973 - accuracy: 0.8241 - val_loss: 0.4185 - val_accuracy: 0.8608\n",
            "Epoch 41/500\n",
            "16/16 [==============================] - 1s 89ms/step - loss: 0.4633 - accuracy: 0.8241 - val_loss: 0.5018 - val_accuracy: 0.8152\n",
            "Epoch 42/500\n",
            "16/16 [==============================] - 1s 83ms/step - loss: 0.4740 - accuracy: 0.8379 - val_loss: 0.3378 - val_accuracy: 0.8861\n",
            "Epoch 43/500\n",
            "16/16 [==============================] - 1s 83ms/step - loss: 0.3740 - accuracy: 0.8617 - val_loss: 0.3127 - val_accuracy: 0.8835\n",
            "Epoch 44/500\n",
            "16/16 [==============================] - 1s 83ms/step - loss: 0.4102 - accuracy: 0.8557 - val_loss: 0.3251 - val_accuracy: 0.8785\n",
            "Epoch 45/500\n",
            "16/16 [==============================] - 1s 93ms/step - loss: 0.4266 - accuracy: 0.8696 - val_loss: 0.3344 - val_accuracy: 0.8962\n",
            "Epoch 46/500\n",
            "16/16 [==============================] - 1s 92ms/step - loss: 0.3658 - accuracy: 0.8636 - val_loss: 0.2759 - val_accuracy: 0.9215\n",
            "Epoch 47/500\n",
            "16/16 [==============================] - 1s 89ms/step - loss: 0.3705 - accuracy: 0.8775 - val_loss: 0.3370 - val_accuracy: 0.8886\n",
            "Epoch 48/500\n",
            "16/16 [==============================] - 1s 88ms/step - loss: 0.3057 - accuracy: 0.9051 - val_loss: 0.2398 - val_accuracy: 0.9241\n",
            "Epoch 49/500\n",
            "16/16 [==============================] - 1s 86ms/step - loss: 0.3053 - accuracy: 0.8893 - val_loss: 0.2047 - val_accuracy: 0.9443\n",
            "Epoch 50/500\n",
            "16/16 [==============================] - 1s 83ms/step - loss: 0.3294 - accuracy: 0.9032 - val_loss: 0.2237 - val_accuracy: 0.9418\n",
            "Epoch 51/500\n",
            "16/16 [==============================] - 1s 84ms/step - loss: 0.3647 - accuracy: 0.8735 - val_loss: 0.3826 - val_accuracy: 0.8456\n",
            "Epoch 52/500\n",
            "16/16 [==============================] - 1s 83ms/step - loss: 0.3281 - accuracy: 0.8874 - val_loss: 0.2452 - val_accuracy: 0.9139\n",
            "Epoch 53/500\n",
            "16/16 [==============================] - 1s 83ms/step - loss: 0.2819 - accuracy: 0.9051 - val_loss: 0.2319 - val_accuracy: 0.9241\n",
            "Epoch 54/500\n",
            "16/16 [==============================] - 1s 84ms/step - loss: 0.3013 - accuracy: 0.9012 - val_loss: 0.1713 - val_accuracy: 0.9443\n",
            "Epoch 55/500\n",
            "16/16 [==============================] - 1s 83ms/step - loss: 0.2121 - accuracy: 0.9447 - val_loss: 0.1560 - val_accuracy: 0.9544\n",
            "Epoch 56/500\n",
            "16/16 [==============================] - 1s 83ms/step - loss: 0.2421 - accuracy: 0.9150 - val_loss: 0.4626 - val_accuracy: 0.8304\n",
            "Epoch 57/500\n",
            "16/16 [==============================] - 1s 89ms/step - loss: 0.2794 - accuracy: 0.9051 - val_loss: 0.2225 - val_accuracy: 0.9316\n",
            "Epoch 58/500\n",
            "16/16 [==============================] - 1s 83ms/step - loss: 0.2496 - accuracy: 0.9209 - val_loss: 0.1957 - val_accuracy: 0.9291\n",
            "Epoch 59/500\n",
            "16/16 [==============================] - 1s 82ms/step - loss: 0.1817 - accuracy: 0.9407 - val_loss: 0.1447 - val_accuracy: 0.9620\n",
            "Epoch 60/500\n",
            "16/16 [==============================] - 1s 83ms/step - loss: 0.1718 - accuracy: 0.9526 - val_loss: 0.1389 - val_accuracy: 0.9595\n",
            "Epoch 61/500\n",
            "16/16 [==============================] - 1s 82ms/step - loss: 0.1959 - accuracy: 0.9308 - val_loss: 0.1625 - val_accuracy: 0.9443\n",
            "Epoch 62/500\n",
            "16/16 [==============================] - 1s 89ms/step - loss: 0.1808 - accuracy: 0.9368 - val_loss: 0.1114 - val_accuracy: 0.9696\n",
            "Epoch 63/500\n",
            "16/16 [==============================] - 1s 83ms/step - loss: 0.1213 - accuracy: 0.9644 - val_loss: 0.1101 - val_accuracy: 0.9646\n",
            "Epoch 64/500\n",
            "16/16 [==============================] - 1s 82ms/step - loss: 0.1533 - accuracy: 0.9526 - val_loss: 0.0907 - val_accuracy: 0.9747\n",
            "Epoch 65/500\n",
            "16/16 [==============================] - 1s 82ms/step - loss: 0.1136 - accuracy: 0.9625 - val_loss: 0.0978 - val_accuracy: 0.9722\n",
            "Epoch 66/500\n",
            "16/16 [==============================] - 1s 83ms/step - loss: 0.1263 - accuracy: 0.9526 - val_loss: 0.1356 - val_accuracy: 0.9671\n",
            "Epoch 67/500\n",
            "16/16 [==============================] - 1s 91ms/step - loss: 0.1427 - accuracy: 0.9486 - val_loss: 0.0933 - val_accuracy: 0.9823\n",
            "Epoch 68/500\n",
            "16/16 [==============================] - 1s 83ms/step - loss: 0.1183 - accuracy: 0.9486 - val_loss: 0.0791 - val_accuracy: 0.9823\n",
            "Epoch 69/500\n",
            "16/16 [==============================] - 1s 89ms/step - loss: 0.0880 - accuracy: 0.9743 - val_loss: 0.0606 - val_accuracy: 0.9848\n",
            "Epoch 70/500\n",
            "16/16 [==============================] - 1s 90ms/step - loss: 0.1064 - accuracy: 0.9644 - val_loss: 0.0631 - val_accuracy: 0.9848\n",
            "Epoch 71/500\n",
            "16/16 [==============================] - 1s 82ms/step - loss: 0.1039 - accuracy: 0.9684 - val_loss: 0.0938 - val_accuracy: 0.9747\n",
            "Epoch 72/500\n",
            "16/16 [==============================] - 1s 82ms/step - loss: 0.1002 - accuracy: 0.9684 - val_loss: 0.0734 - val_accuracy: 0.9924\n",
            "Epoch 73/500\n",
            "16/16 [==============================] - 1s 83ms/step - loss: 0.0909 - accuracy: 0.9644 - val_loss: 0.0751 - val_accuracy: 0.9823\n",
            "Epoch 74/500\n",
            "16/16 [==============================] - 1s 83ms/step - loss: 0.0952 - accuracy: 0.9723 - val_loss: 0.0719 - val_accuracy: 0.9797\n",
            "Epoch 75/500\n",
            "16/16 [==============================] - 1s 85ms/step - loss: 0.1066 - accuracy: 0.9625 - val_loss: 0.0830 - val_accuracy: 0.9747\n",
            "Epoch 76/500\n",
            "16/16 [==============================] - 1s 87ms/step - loss: 0.0783 - accuracy: 0.9704 - val_loss: 0.0577 - val_accuracy: 0.9797\n",
            "Epoch 77/500\n",
            "16/16 [==============================] - 1s 87ms/step - loss: 0.1292 - accuracy: 0.9644 - val_loss: 0.1048 - val_accuracy: 0.9696\n",
            "Epoch 78/500\n",
            "16/16 [==============================] - 1s 87ms/step - loss: 0.0972 - accuracy: 0.9664 - val_loss: 0.0760 - val_accuracy: 0.9797\n",
            "Epoch 79/500\n",
            "16/16 [==============================] - 1s 83ms/step - loss: 0.0913 - accuracy: 0.9763 - val_loss: 0.0694 - val_accuracy: 0.9747\n",
            "Epoch 80/500\n",
            "16/16 [==============================] - ETA: 0s - loss: 0.0550 - accuracy: 0.9881\n",
            "Reached 98% accuracy so cancelling training!\n",
            "16/16 [==============================] - 1s 85ms/step - loss: 0.0550 - accuracy: 0.9881 - val_loss: 0.0629 - val_accuracy: 0.9823\n"
          ]
        }
      ],
      "source": [
        "# Train the model\n",
        "history = model.fit(train_dataset_final,\n",
        "                    epochs=500,\n",
        "                    validation_data=validation_dataset_final, callbacks=[EarlyStoppingCallback()])"
      ]
    },
    {
      "cell_type": "markdown",
      "metadata": {
        "id": "zsXPU_VGxCcb"
      },
      "source": [
        "## Plotting Accuracy and Loss"
      ]
    },
    {
      "cell_type": "code",
      "execution_count": null,
      "metadata": {
        "colab": {
          "base_uri": "https://localhost:8080/",
          "height": 515
        },
        "id": "NR_s8EMzttlr",
        "outputId": "19b33812-c0be-4913-89b1-9e63f85fa50f"
      },
      "outputs": [
        {
          "data": {
            "image/png": "[encoded data removed]",
            "text/plain": [
              "<Figure size 1000x500 with 2 Axes>"
            ]
          },
          "metadata": {},
          "output_type": "display_data"
        }
      ],
      "source": [
        "# Get training and validation accuracies\n",
        "acc = history.history['accuracy']\n",
        "val_acc = history.history['val_accuracy']\n",
        "loss = history.history['loss']\n",
        "val_loss = history.history['val_loss']\n",
        "\n",
        "# Get number of epochs\n",
        "epochs = range(len(acc))\n",
        "\n",
        "fig, ax = plt.subplots(1, 2, figsize=(10, 5))\n",
        "fig.suptitle('Training and validation accuracy')\n",
        "\n",
        "for i, (data, label) in enumerate(zip([(acc, val_acc), (loss, val_loss)], [\"Accuracy\", \"Loss\"])):\n",
        "    ax[i].plot(epochs, data[0], 'r', label=\"Training \" + label)\n",
        "    ax[i].plot(epochs, data[1], 'b', label=\"Validation \" + label)\n",
        "    ax[i].legend()\n",
        "    ax[i].set_xlabel('epochs')\n",
        "\n",
        "plt.show()"
      ]
    },
    {
      "cell_type": "markdown",
      "metadata": {
        "id": "4r7A1FbklJ71"
      },
      "source": [
        "# Save and Convert Model"
      ]
    },
    {
      "cell_type": "code",
      "execution_count": null,
      "metadata": {
        "id": "Imu9RvEdWIf_"
      },
      "outputs": [],
      "source": [
        "# Attempt to convert the model to TFLite format\n",
        "converter = tf.lite.TFLiteConverter.from_keras_model(model)\n",
        "tflite_model = converter.convert()"
      ]
    },
    {
      "cell_type": "code",
      "execution_count": null,
      "metadata": {
        "colab": {
          "base_uri": "https://localhost:8080/",
          "height": 811
        },
        "id": "h8dW5tvdXACU",
        "outputId": "45c2e6cb-7a8a-4381-d1ae-552cb3041125"
      },
      "outputs": [
        {
          "name": "stdout",
          "output_type": "stream",
          "text": [
            "Collecting protobuf==3.2.0\n",
            "  Downloading protobuf-3.2.0-py2.py3-none-any.whl.metadata (761 bytes)\n",
            "Requirement already satisfied: six>=1.9 in /usr/local/lib/python3.10/dist-packages (from protobuf==3.2.0) (1.16.0)\n",
            "Requirement already satisfied: setuptools in /usr/local/lib/python3.10/dist-packages (from protobuf==3.2.0) (75.1.0)\n",
            "Downloading protobuf-3.2.0-py2.py3-none-any.whl (360 kB)\n",
            "\u001b[2K   \u001b[90m━━━━━━━━━━━━━━━━━━━━━━━━━━━━━━━━━━━━━━━━\u001b[0m \u001b[32m360.1/360.1 kB\u001b[0m \u001b[31m13.2 MB/s\u001b[0m eta \u001b[36m0:00:00\u001b[0m\n",
            "\u001b[?25hInstalling collected packages: protobuf\n",
            "  Attempting uninstall: protobuf\n",
            "    Found existing installation: protobuf 4.25.5\n",
            "    Uninstalling protobuf-4.25.5:\n",
            "      Successfully uninstalled protobuf-4.25.5\n",
            "\u001b[31mERROR: pip's dependency resolver does not currently take into account all the packages that are installed. This behaviour is the source of the following dependency conflicts.\n",
            "google-ai-generativelanguage 0.6.10 requires protobuf!=4.21.0,!=4.21.1,!=4.21.2,!=4.21.3,!=4.21.4,!=4.21.5,<6.0.0dev,>=3.20.2, but you have protobuf 3.2.0 which is incompatible.\n",
            "google-api-core 2.19.2 requires protobuf!=3.20.0,!=3.20.1,!=4.21.0,!=4.21.1,!=4.21.2,!=4.21.3,!=4.21.4,!=4.21.5,<6.0.0.dev0,>=3.19.5, but you have protobuf 3.2.0 which is incompatible.\n",
            "google-cloud-aiplatform 1.73.0 requires protobuf!=4.21.0,!=4.21.1,!=4.21.2,!=4.21.3,!=4.21.4,!=4.21.5,<6.0.0dev,>=3.20.2, but you have protobuf 3.2.0 which is incompatible.\n",
            "google-cloud-bigquery-connection 1.16.1 requires protobuf!=4.21.0,!=4.21.1,!=4.21.2,!=4.21.3,!=4.21.4,!=4.21.5,<6.0.0dev,>=3.20.2, but you have protobuf 3.2.0 which is incompatible.\n",
            "google-cloud-bigquery-storage 2.27.0 requires protobuf!=3.20.0,!=3.20.1,!=4.21.0,!=4.21.1,!=4.21.2,!=4.21.3,!=4.21.4,!=4.21.5,<6.0.0dev,>=3.20.2, but you have protobuf 3.2.0 which is incompatible.\n",
            "google-cloud-bigtable 2.27.0 requires protobuf!=4.21.0,!=4.21.1,!=4.21.2,!=4.21.3,!=4.21.4,!=4.21.5,<6.0.0dev,>=3.20.2, but you have protobuf 3.2.0 which is incompatible.\n",
            "google-cloud-datastore 2.20.1 requires protobuf!=3.20.0,!=3.20.1,!=4.21.0,!=4.21.1,!=4.21.2,!=4.21.3,!=4.21.4,!=4.21.5,<6.0.0dev,>=3.20.2, but you have protobuf 3.2.0 which is incompatible.\n",
            "google-cloud-firestore 2.19.0 requires protobuf!=3.20.0,!=3.20.1,!=4.21.0,!=4.21.1,!=4.21.2,!=4.21.3,!=4.21.4,!=4.21.5,<6.0.0dev,>=3.20.2, but you have protobuf 3.2.0 which is incompatible.\n",
            "google-cloud-functions 1.18.1 requires protobuf!=4.21.0,!=4.21.1,!=4.21.2,!=4.21.3,!=4.21.4,!=4.21.5,<6.0.0dev,>=3.20.2, but you have protobuf 3.2.0 which is incompatible.\n",
            "google-cloud-iam 2.16.1 requires protobuf!=4.21.0,!=4.21.1,!=4.21.2,!=4.21.3,!=4.21.4,!=4.21.5,<6.0.0dev,>=3.20.2, but you have protobuf 3.2.0 which is incompatible.\n",
            "google-cloud-language 2.15.1 requires protobuf!=4.21.0,!=4.21.1,!=4.21.2,!=4.21.3,!=4.21.4,!=4.21.5,<6.0.0dev,>=3.20.2, but you have protobuf 3.2.0 which is incompatible.\n",
            "google-cloud-pubsub 2.27.1 requires protobuf!=4.21.0,!=4.21.1,!=4.21.2,!=4.21.3,!=4.21.4,!=4.21.5,<6.0.0dev,>=3.20.2, but you have protobuf 3.2.0 which is incompatible.\n",
            "google-cloud-resource-manager 1.13.1 requires protobuf!=4.21.0,!=4.21.1,!=4.21.2,!=4.21.3,!=4.21.4,!=4.21.5,<6.0.0dev,>=3.20.2, but you have protobuf 3.2.0 which is incompatible.\n",
            "google-cloud-translate 3.17.0 requires protobuf!=4.21.0,!=4.21.1,!=4.21.2,!=4.21.3,!=4.21.4,!=4.21.5,<6.0.0dev,>=3.20.2, but you have protobuf 3.2.0 which is incompatible.\n",
            "googleapis-common-protos 1.66.0 requires protobuf!=3.20.0,!=3.20.1,!=4.21.1,!=4.21.2,!=4.21.3,!=4.21.4,!=4.21.5,<6.0.0.dev0,>=3.20.2, but you have protobuf 3.2.0 which is incompatible.\n",
            "grpc-google-iam-v1 0.13.1 requires protobuf!=4.21.1,!=4.21.2,!=4.21.3,!=4.21.4,!=4.21.5,<6.0.0dev,>=3.20.2, but you have protobuf 3.2.0 which is incompatible.\n",
            "grpcio-status 1.62.3 requires protobuf>=4.21.6, but you have protobuf 3.2.0 which is incompatible.\n",
            "proto-plus 1.25.0 requires protobuf<6.0.0dev,>=3.19.0, but you have protobuf 3.2.0 which is incompatible.\n",
            "tensorboard 2.15.2 requires protobuf!=4.24.0,>=3.19.6, but you have protobuf 3.2.0 which is incompatible.\n",
            "tensorflow 2.15.0 requires protobuf!=4.21.0,!=4.21.1,!=4.21.2,!=4.21.3,!=4.21.4,!=4.21.5,<5.0.0dev,>=3.20.3, but you have protobuf 3.2.0 which is incompatible.\n",
            "tensorflow-datasets 4.9.7 requires protobuf>=3.20, but you have protobuf 3.2.0 which is incompatible.\n",
            "tensorflow-hub 0.16.1 requires protobuf>=3.19.6, but you have protobuf 3.2.0 which is incompatible.\n",
            "tensorflow-metadata 1.13.1 requires protobuf<5,>=3.20.3, but you have protobuf 3.2.0 which is incompatible.\n",
            "tf-keras 2.18.0 requires tensorflow<2.19,>=2.18, but you have tensorflow 2.15.0 which is incompatible.\n",
            "wandb 0.18.7 requires protobuf!=4.21.0,!=5.28.0,<6,>=3.19.0; python_version > \"3.9\" and sys_platform == \"linux\", but you have protobuf 3.2.0 which is incompatible.\n",
            "ydf 0.9.0 requires protobuf>=3.14, but you have protobuf 3.2.0 which is incompatible.\u001b[0m\u001b[31m\n",
            "\u001b[0mSuccessfully installed protobuf-3.2.0\n"
          ]
        },
        {
          "data": {
            "application/vnd.colab-display-data+json": {
              "id": "dc051478c8554c3f8e3834a215b0ffbc",
              "pip_warning": {
                "packages": [
                  "google"
                ]
              }
            }
          },
          "metadata": {},
          "output_type": "display_data"
        }
      ],
      "source": [
        "!pip install protobuf==3.2.0"
      ]
    },
    {
      "cell_type": "code",
      "execution_count": null,
      "metadata": {
        "id": "mQRnPNtLWesT"
      },
      "outputs": [],
      "source": [
        "import tensorflow as tf\n",
        "from tensorflow import lite"
      ]
    },
    {
      "cell_type": "code",
      "execution_count": null,
      "metadata": {
        "id": "Br8MMTN_WSHV"
      },
      "outputs": [],
      "source": [
        "# # from tflite_support.metadata import metadata_schema_py_generated as _metadata_fb\n",
        "# from tflite_support.metadata.metadata_writers import writer_utils\n",
        "# from tflite_support.metadata.metadata_writers import image_classifier\n",
        "\n",
        "# # Load your TFLite model\n",
        "# MODEL_PATH = \"model.tflite\"\n",
        "# with open(MODEL_PATH, \"rb\") as f:\n",
        "#     tflite_model = f.read()\n",
        "\n",
        "# # Create metadata for the model using tflite-support\n",
        "# writer = image_classifier.MetadataWriter.create_for_inference(\n",
        "#     model_buffer=tflite_model,\n",
        "#     input_norm_mean=[127.5],  # Normalization mean value for input\n",
        "#     input_norm_std=[127.5],   # Normalization standard deviation value for input\n",
        "#     label_file_paths=[\"labels.txt\"]  # Path to your labels file\n",
        "# )\n",
        "\n",
        "# # Populate metadata\n",
        "# metadata_buf = writer.populate()\n",
        "\n",
        "# # Save the model with metadata\n",
        "# UPDATED_MODEL_PATH = \"model_with_metadata.tflite\"\n",
        "# writer_utils.save_file(metadata_buf, UPDATED_MODEL_PATH)\n",
        "# print(f\"Model with metadata saved to {UPDATED_MODEL_PATH}\")"
      ]
    },
    {
      "cell_type": "markdown",
      "metadata": {
        "id": "K0vuG6Iuy4hd"
      },
      "source": [
        "## Save to .h5 Model"
      ]
    },
    {
      "cell_type": "code",
      "execution_count": null,
      "metadata": {
        "colab": {
          "base_uri": "https://localhost:8080/"
        },
        "id": "shhrwx-4yOfB",
        "outputId": "e639cbcb-fed7-4b6a-86ab-22805632b943"
      },
      "outputs": [
        {
          "name": "stderr",
          "output_type": "stream",
          "text": [
            "/usr/local/lib/python3.10/dist-packages/keras/src/engine/training.py:3103: UserWarning: You are saving your model as an HDF5 file via `model.save()`. This file format is considered legacy. We recommend using instead the native Keras format, e.g. `model.save('my_model.keras')`.\n",
            "  saving_api.save_model(\n"
          ]
        }
      ],
      "source": [
        "saved_model_path = \"sample_data/model.h5\"\n",
        "\n",
        "model.save(saved_model_path)"
      ]
    },
    {
      "cell_type": "markdown",
      "metadata": {
        "id": "xMPm--m7Fsqm"
      },
      "source": [
        "## Save to SavedModel"
      ]
    },
    {
      "cell_type": "code",
      "execution_count": null,
      "metadata": {
        "colab": {
          "base_uri": "https://localhost:8080/"
        },
        "id": "8_mrkeafCefI",
        "outputId": "3345d364-23d7-47a0-d2ec-ae9cad377f45"
      },
      "outputs": [
        {
          "name": "stdout",
          "output_type": "stream",
          "text": [
            "Model telah disimpan ke ./my_model\n"
          ]
        }
      ],
      "source": [
        "saved_model_path = \"./my_model\"\n",
        "model.save(saved_model_path)\n",
        "\n",
        "print(f\"Model telah disimpan ke {saved_model_path}\")"
      ]
    },
    {
      "cell_type": "markdown",
      "metadata": {
        "id": "lgTKVUraFy3X"
      },
      "source": [
        "## Convert to TensorFlow Lite"
      ]
    },
    {
      "cell_type": "code",
      "execution_count": null,
      "metadata": {
        "id": "PfK7G8EfDms4"
      },
      "outputs": [],
      "source": [
        "converter = tf.lite.TFLiteConverter.from_saved_model(\"./my_model\") # path to the SavedModel directory\n",
        "tflite_model = converter.convert()\n",
        "\n",
        "with open('model.tflite', 'wb') as f:\n",
        "  f.write(tflite_model)"
      ]
    },
    {
      "cell_type": "markdown",
      "metadata": {
        "id": "ov3at5xay7nL"
      },
      "source": [
        "## Convert to TensorFlow.js Model"
      ]
    },
    {
      "cell_type": "code",
      "execution_count": null,
      "metadata": {
        "colab": {
          "base_uri": "https://localhost:8080/"
        },
        "id": "3EICN-b0rdIC",
        "outputId": "88f6f0a6-eafc-4375-a04e-a759b6211040"
      },
      "outputs": [
        {
          "name": "stdout",
          "output_type": "stream",
          "text": [
            "Traceback (most recent call last):\n",
            "  File \"/usr/local/bin/tensorflowjs_converter\", line 5, in <module>\n",
            "    from tensorflowjs.converters.converter import pip_main\n",
            "  File \"/usr/local/lib/python3.10/dist-packages/tensorflowjs/__init__.py\", line 21, in <module>\n",
            "    from tensorflowjs import converters\n",
            "  File \"/usr/local/lib/python3.10/dist-packages/tensorflowjs/converters/__init__.py\", line 21, in <module>\n",
            "    from tensorflowjs.converters.converter import convert\n",
            "  File \"/usr/local/lib/python3.10/dist-packages/tensorflowjs/converters/converter.py\", line 29, in <module>\n",
            "    import tensorflow.compat.v1 as tf1\n",
            "  File \"/usr/local/lib/python3.10/dist-packages/tensorflow/__init__.py\", line 48, in <module>\n",
            "    from tensorflow._api.v2 import __internal__\n",
            "  File \"/usr/local/lib/python3.10/dist-packages/tensorflow/_api/v2/__internal__/__init__.py\", line 8, in <module>\n",
            "    from tensorflow._api.v2.__internal__ import autograph\n",
            "  File \"/usr/local/lib/python3.10/dist-packages/tensorflow/_api/v2/__internal__/autograph/__init__.py\", line 8, in <module>\n",
            "    from tensorflow.python.autograph.core.ag_ctx import control_status_ctx # line: 34\n",
            "  File \"/usr/local/lib/python3.10/dist-packages/tensorflow/python/autograph/core/ag_ctx.py\", line 21, in <module>\n",
            "    from tensorflow.python.autograph.utils import ag_logging\n",
            "  File \"/usr/local/lib/python3.10/dist-packages/tensorflow/python/autograph/utils/__init__.py\", line 17, in <module>\n",
            "    from tensorflow.python.autograph.utils.context_managers import control_dependency_on_returns\n",
            "  File \"/usr/local/lib/python3.10/dist-packages/tensorflow/python/autograph/utils/context_managers.py\", line 19, in <module>\n",
            "    from tensorflow.python.framework import ops\n",
            "  File \"/usr/local/lib/python3.10/dist-packages/tensorflow/python/framework/ops.py\", line 29, in <module>\n",
            "    from tensorflow.core.framework import attr_value_pb2\n",
            "  File \"/usr/local/lib/python3.10/dist-packages/tensorflow/core/framework/attr_value_pb2.py\", line 5, in <module>\n",
            "    from google.protobuf.internal import builder as _builder\n",
            "ImportError: cannot import name 'builder' from 'google.protobuf.internal' (/usr/local/lib/python3.10/dist-packages/google/protobuf/internal/__init__.py)\n"
          ]
        }
      ],
      "source": [
        "!tensorflowjs_converter --input_format=keras sample_data/model.h5 sample_data/tfjs_model_tf"
      ]
    },
    {
      "cell_type": "code",
      "execution_count": null,
      "metadata": {
        "colab": {
          "base_uri": "https://localhost:8080/"
        },
        "id": "c6hSn5PNu7Wh",
        "outputId": "d3cb46c1-2c15-4d5f-c56e-2617b0f2d8ef"
      },
      "outputs": [
        {
          "name": "stdout",
          "output_type": "stream",
          "text": [
            "\tzip warning: name not matched: /content/sample_data/tfjs_model_tf/\n",
            "\n",
            "zip error: Nothing to do! (try: zip -r /content/sample_data/tfjs_model.zip . -i /content/sample_data/tfjs_model_tf/)\n"
          ]
        }
      ],
      "source": [
        "!zip -r /content/sample_data/tfjs_model.zip /content/sample_data/tfjs_model_tf/"
      ]
    },
    {
      "cell_type": "markdown",
      "metadata": {
        "id": "kBh5z1CvzAzU"
      },
      "source": [
        "## Conversion Check"
      ]
    },
    {
      "cell_type": "code",
      "execution_count": null,
      "metadata": {
        "collapsed": true,
        "id": "n96iXxK8xu79"
      },
      "outputs": [],
      "source": [
        "# Unucomment this if you want to check whether your conversion is success\n",
        "\n",
        "# !tensorflowjs_converter --input_format=tfjs_layers_model --output_format=keras /content/sample_data/tfjs_model_tf/model.json /content/model_converted.h5\n"
      ]
    },
    {
      "cell_type": "code",
      "execution_count": null,
      "metadata": {
        "colab": {
          "base_uri": "https://localhost:8080/",
          "height": 356
        },
        "collapsed": true,
        "id": "tg4VdcOSyEM-",
        "outputId": "5bf05f1e-76d2-4ee7-f608-f3c7be7d2540"
      },
      "outputs": [
        {
          "ename": "OSError",
          "evalue": "No file or directory found at /content/model_converted.h5",
          "output_type": "error",
          "traceback": [
            "\u001b[0;31m---------------------------------------------------------------------------\u001b[0m",
            "\u001b[0;31mOSError\u001b[0m                                   Traceback (most recent call last)",
            "\u001b[0;32m<ipython-input-28-92872e4fc819>\u001b[0m in \u001b[0;36m<cell line: 3>\u001b[0;34m()\u001b[0m\n\u001b[1;32m      1\u001b[0m \u001b[0;32mfrom\u001b[0m \u001b[0mtensorflow\u001b[0m\u001b[0;34m.\u001b[0m\u001b[0mkeras\u001b[0m\u001b[0;34m.\u001b[0m\u001b[0mmodels\u001b[0m \u001b[0;32mimport\u001b[0m \u001b[0mload_model\u001b[0m\u001b[0;34m\u001b[0m\u001b[0;34m\u001b[0m\u001b[0m\n\u001b[1;32m      2\u001b[0m \u001b[0;34m\u001b[0m\u001b[0m\n\u001b[0;32m----> 3\u001b[0;31m \u001b[0mmodel\u001b[0m \u001b[0;34m=\u001b[0m \u001b[0mload_model\u001b[0m\u001b[0;34m(\u001b[0m\u001b[0;34m'/content/model_converted.h5'\u001b[0m\u001b[0;34m)\u001b[0m\u001b[0;34m\u001b[0m\u001b[0;34m\u001b[0m\u001b[0m\n\u001b[0m\u001b[1;32m      4\u001b[0m \u001b[0mmodel\u001b[0m\u001b[0;34m.\u001b[0m\u001b[0msummary\u001b[0m\u001b[0;34m(\u001b[0m\u001b[0;34m)\u001b[0m\u001b[0;34m\u001b[0m\u001b[0;34m\u001b[0m\u001b[0m\n",
            "\u001b[0;32m/usr/local/lib/python3.10/dist-packages/keras/src/saving/saving_api.py\u001b[0m in \u001b[0;36mload_model\u001b[0;34m(filepath, custom_objects, compile, safe_mode, **kwargs)\u001b[0m\n\u001b[1;32m    260\u001b[0m \u001b[0;34m\u001b[0m\u001b[0m\n\u001b[1;32m    261\u001b[0m     \u001b[0;31m# Legacy case.\u001b[0m\u001b[0;34m\u001b[0m\u001b[0;34m\u001b[0m\u001b[0m\n\u001b[0;32m--> 262\u001b[0;31m     return legacy_sm_saving_lib.load_model(\n\u001b[0m\u001b[1;32m    263\u001b[0m         \u001b[0mfilepath\u001b[0m\u001b[0;34m,\u001b[0m \u001b[0mcustom_objects\u001b[0m\u001b[0;34m=\u001b[0m\u001b[0mcustom_objects\u001b[0m\u001b[0;34m,\u001b[0m \u001b[0mcompile\u001b[0m\u001b[0;34m=\u001b[0m\u001b[0mcompile\u001b[0m\u001b[0;34m,\u001b[0m \u001b[0;34m**\u001b[0m\u001b[0mkwargs\u001b[0m\u001b[0;34m\u001b[0m\u001b[0;34m\u001b[0m\u001b[0m\n\u001b[1;32m    264\u001b[0m     )\n",
            "\u001b[0;32m/usr/local/lib/python3.10/dist-packages/keras/src/utils/traceback_utils.py\u001b[0m in \u001b[0;36merror_handler\u001b[0;34m(*args, **kwargs)\u001b[0m\n\u001b[1;32m     68\u001b[0m             \u001b[0;31m# To get the full stack trace, call:\u001b[0m\u001b[0;34m\u001b[0m\u001b[0;34m\u001b[0m\u001b[0m\n\u001b[1;32m     69\u001b[0m             \u001b[0;31m# `tf.debugging.disable_traceback_filtering()`\u001b[0m\u001b[0;34m\u001b[0m\u001b[0;34m\u001b[0m\u001b[0m\n\u001b[0;32m---> 70\u001b[0;31m             \u001b[0;32mraise\u001b[0m \u001b[0me\u001b[0m\u001b[0;34m.\u001b[0m\u001b[0mwith_traceback\u001b[0m\u001b[0;34m(\u001b[0m\u001b[0mfiltered_tb\u001b[0m\u001b[0;34m)\u001b[0m \u001b[0;32mfrom\u001b[0m \u001b[0;32mNone\u001b[0m\u001b[0;34m\u001b[0m\u001b[0;34m\u001b[0m\u001b[0m\n\u001b[0m\u001b[1;32m     71\u001b[0m         \u001b[0;32mfinally\u001b[0m\u001b[0;34m:\u001b[0m\u001b[0;34m\u001b[0m\u001b[0;34m\u001b[0m\u001b[0m\n\u001b[1;32m     72\u001b[0m             \u001b[0;32mdel\u001b[0m \u001b[0mfiltered_tb\u001b[0m\u001b[0;34m\u001b[0m\u001b[0;34m\u001b[0m\u001b[0m\n",
            "\u001b[0;32m/usr/local/lib/python3.10/dist-packages/keras/src/saving/legacy/save.py\u001b[0m in \u001b[0;36mload_model\u001b[0;34m(filepath, custom_objects, compile, options)\u001b[0m\n\u001b[1;32m    232\u001b[0m                     \u001b[0;32mif\u001b[0m \u001b[0misinstance\u001b[0m\u001b[0;34m(\u001b[0m\u001b[0mfilepath_str\u001b[0m\u001b[0;34m,\u001b[0m \u001b[0mstr\u001b[0m\u001b[0;34m)\u001b[0m\u001b[0;34m:\u001b[0m\u001b[0;34m\u001b[0m\u001b[0;34m\u001b[0m\u001b[0m\n\u001b[1;32m    233\u001b[0m                         \u001b[0;32mif\u001b[0m \u001b[0;32mnot\u001b[0m \u001b[0mtf\u001b[0m\u001b[0;34m.\u001b[0m\u001b[0mio\u001b[0m\u001b[0;34m.\u001b[0m\u001b[0mgfile\u001b[0m\u001b[0;34m.\u001b[0m\u001b[0mexists\u001b[0m\u001b[0;34m(\u001b[0m\u001b[0mfilepath_str\u001b[0m\u001b[0;34m)\u001b[0m\u001b[0;34m:\u001b[0m\u001b[0;34m\u001b[0m\u001b[0;34m\u001b[0m\u001b[0m\n\u001b[0;32m--> 234\u001b[0;31m                             raise IOError(\n\u001b[0m\u001b[1;32m    235\u001b[0m                                 \u001b[0;34mf\"No file or directory found at {filepath_str}\"\u001b[0m\u001b[0;34m\u001b[0m\u001b[0;34m\u001b[0m\u001b[0m\n\u001b[1;32m    236\u001b[0m                             )\n",
            "\u001b[0;31mOSError\u001b[0m: No file or directory found at /content/model_converted.h5"
          ]
        }
      ],
      "source": [
        "from tensorflow.keras.models import load_model\n",
        "\n",
        "model = load_model('/content/model_converted.h5')\n",
        "model.summary()"
      ]
    },
    {
      "cell_type": "code",
      "execution_count": null,
      "metadata": {
        "id": "1cV4FLOyDToG"
      },
      "outputs": [],
      "source": [
        "loaded_model = tf.keras.models.load_model(saved_model_path)\n",
        "loaded_model.summary()"
      ]
    },
    {
      "cell_type": "markdown",
      "metadata": {
        "id": "KgjwmVUC06gk"
      },
      "source": [
        "# Model Testing"
      ]
    },
    {
      "cell_type": "markdown",
      "metadata": {
        "id": "MXxjTFQxxiFG"
      },
      "source": [
        "## Test Model with other image"
      ]
    },
    {
      "cell_type": "code",
      "execution_count": null,
      "metadata": {
        "colab": {
          "background_save": true,
          "referenced_widgets": [
            "19e28555d4ea499295ffe0def535fc75",
            "7e81f8d0f7a74290b7c15aa4a2e3abf7"
          ]
        },
        "id": "crt_JfL1kKKP",
        "outputId": "8fd2c838-3b08-4d65-c85e-2d72ff51b9d4"
      },
      "outputs": [
        {
          "data": {
            "application/vnd.jupyter.widget-view+json": {
              "model_id": "19e28555d4ea499295ffe0def535fc75",
              "version_major": 2,
              "version_minor": 0
            },
            "text/plain": [
              "FileUpload(value={}, accept='image/*', description='Upload', multiple=True)"
            ]
          },
          "metadata": {},
          "output_type": "display_data"
        },
        {
          "data": {
            "application/vnd.jupyter.widget-view+json": {
              "model_id": "7e81f8d0f7a74290b7c15aa4a2e3abf7",
              "version_major": 2,
              "version_minor": 0
            },
            "text/plain": [
              "Output()"
            ]
          },
          "metadata": {},
          "output_type": "display_data"
        }
      ],
      "source": [
        "# Create the widget and take care of the display\n",
        "from ipywidgets import widgets\n",
        "from io import BytesIO\n",
        "import tensorflow as tf\n",
        "import numpy as np\n",
        "\n",
        "# Initialize the file upload widget\n",
        "uploader = widgets.FileUpload(accept=\"image/*\", multiple=True)\n",
        "display(uploader)\n",
        "out = widgets.Output()\n",
        "display(out)\n",
        "\n",
        "# Define a function to handle predictions\n",
        "def file_predict(filename, file, out):\n",
        "    \"\"\"A function for creating the prediction and printing the output.\"\"\"\n",
        "    # Load and preprocess the image\n",
        "    image = tf.keras.utils.load_img(file, target_size=(256, 256))\n",
        "    image = tf.keras.utils.img_to_array(image)\n",
        "    image = np.expand_dims(image, axis=0)\n",
        "\n",
        "    # Make a prediction\n",
        "    prediction = model.predict(image, verbose=0)[0]\n",
        "\n",
        "    # Classes corresponding to the model output\n",
        "    classes = ['Acne', 'Bags', 'Bopeng', 'Bruntusan', 'Milia', 'Redness']\n",
        "\n",
        "    # Get the index of the highest probability\n",
        "    max_index = np.argmax(prediction)\n",
        "    max_prob = prediction[max_index]\n",
        "    max_class = classes[max_index]\n",
        "\n",
        "    # Display the prediction\n",
        "    with out:\n",
        "        print(f'\\nModel output for {filename}:')\n",
        "        print(f'  - Predicted class: {max_class} with probability {max_prob:.5f}')\n",
        "\n",
        "# Define the file upload handler\n",
        "def on_upload_change(change):\n",
        "    \"\"\"A function for getting files from the widget and running the prediction.\"\"\"\n",
        "    items = change['new']  # Access the newly uploaded files\n",
        "    for filename, file_info in items.items():  # Loop through each uploaded file\n",
        "        file_jpgdata = BytesIO(file_info['content'])\n",
        "        file_predict(filename, file_jpgdata, out)\n",
        "\n",
        "# Attach the observer to the uploader widget\n",
        "uploader.observe(on_upload_change, names='value')"
      ]
    },
    {
      "cell_type": "markdown",
      "metadata": {
        "id": "X38Wk1U14FyV"
      },
      "source": [
        "## Confusion Matrix"
      ]
    },
    {
      "cell_type": "code",
      "execution_count": null,
      "metadata": {
        "id": "_-88lwl-zgR0"
      },
      "outputs": [],
      "source": [
        "def plot_confusion_matrix(model, dataset, class_names):\n",
        "    \"\"\"\n",
        "    Plot a confusion matrix for a given model and dataset.\n",
        "\n",
        "    Args:\n",
        "        model (tf.keras.Model): Trained Keras model.\n",
        "        dataset (tf.data.Dataset): Dataset to evaluate (e.g., validation or test set).\n",
        "        class_names (list): List of class names corresponding to the output labels.\n",
        "    \"\"\"\n",
        "    # Get true labels and predictions\n",
        "    y_true = np.concatenate([y for _, y in dataset], axis=0)\n",
        "    y_pred = np.argmax(model.predict(dataset), axis=1)\n",
        "\n",
        "    # Convert one-hot encoded labels to integers if necessary\n",
        "    if y_true.ndim > 1:\n",
        "        y_true = np.argmax(y_true, axis=1)\n",
        "\n",
        "    # Compute confusion matrix\n",
        "    cm = confusion_matrix(y_true, y_pred)\n",
        "\n",
        "    # Display confusion matrix\n",
        "    disp = ConfusionMatrixDisplay(confusion_matrix=cm, display_labels=class_names)\n",
        "    disp.plot(cmap=plt.cm.Blues, xticks_rotation=45)\n",
        "    plt.title(\"Confusion Matrix\")\n",
        "    plt.show()\n",
        "\n",
        "class_names = ['Acne', 'Bags', 'Bopeng', 'Bruntusan', 'Milia', 'Redness']\n",
        "plot_confusion_matrix(model, validation_dataset_final, class_names)"
      ]
    }
  ],
  "metadata": {
    "accelerator": "GPU",
    "colab": {
      "collapsed_sections": [
        "CxhTV9IinLSV",
        "VGWf11dwstYO",
        "oJgksX5AnyPi",
        "r90TtLh10FPG",
        "WXdVsG5lqt_w",
        "QnfCunAEq8CF",
        "nKHcyQfVuDKs",
        "nMojPv9Euq5P",
        "ROZ53MWZwh8K",
        "EZsJYKpQwq3g",
        "X7rkzH9Rwx24",
        "W9tITgqVw1tt",
        "zsXPU_VGxCcb",
        "4r7A1FbklJ71",
        "K0vuG6Iuy4hd",
        "xMPm--m7Fsqm",
        "lgTKVUraFy3X",
        "ov3at5xay7nL",
        "kBh5z1CvzAzU",
        "KgjwmVUC06gk",
        "MXxjTFQxxiFG",
        "X38Wk1U14FyV"
      ],
      "gpuType": "T4",
      "provenance": [],
      "toc_visible": true
    },
    "kernelspec": {
      "display_name": "Python 3",
      "name": "python3"
    },
    "language_info": {
      "codemirror_mode": {
        "name": "ipython",
        "version": 3
      },
      "file_extension": ".py",
      "mimetype": "text/x-python",
      "name": "python",
      "nbconvert_exporter": "python",
      "pygments_lexer": "ipython3",
      "version": "3.12.4"
    }
  },
  "nbformat": 4,
  "nbformat_minor": 0
}